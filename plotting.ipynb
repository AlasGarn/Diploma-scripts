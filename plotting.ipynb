{
 "cells": [
  {
   "cell_type": "code",
   "execution_count": 1,
   "metadata": {
    "collapsed": false
   },
   "outputs": [
    {
     "name": "stdout",
     "output_type": "stream",
     "text": [
      "Downloading data, please wait\n"
     ]
    },
    {
     "ename": "ImportError",
     "evalue": "No module named mayavi",
     "output_type": "error",
     "traceback": [
      "\u001b[1;31m---------------------------------------------------------------------------\u001b[0m",
      "\u001b[1;31mImportError\u001b[0m                               Traceback (most recent call last)",
      "\u001b[1;32m<ipython-input-1-f0a4e2ce8940>\u001b[0m in \u001b[0;36m<module>\u001b[1;34m()\u001b[0m\n\u001b[0;32m     17\u001b[0m \u001b[1;31m# Plot the atoms and the bonds ################################################\u001b[0m\u001b[1;33m\u001b[0m\u001b[1;33m\u001b[0m\u001b[0m\n\u001b[0;32m     18\u001b[0m \u001b[1;32mimport\u001b[0m \u001b[0mnumpy\u001b[0m \u001b[1;32mas\u001b[0m \u001b[0mnp\u001b[0m\u001b[1;33m\u001b[0m\u001b[0m\n\u001b[1;32m---> 19\u001b[1;33m \u001b[1;32mfrom\u001b[0m \u001b[0mmayavi\u001b[0m \u001b[1;32mimport\u001b[0m \u001b[0mmlab\u001b[0m\u001b[1;33m\u001b[0m\u001b[0m\n\u001b[0m\u001b[0;32m     20\u001b[0m \u001b[0mmlab\u001b[0m\u001b[1;33m.\u001b[0m\u001b[0mfigure\u001b[0m\u001b[1;33m(\u001b[0m\u001b[1;36m1\u001b[0m\u001b[1;33m,\u001b[0m \u001b[0mbgcolor\u001b[0m\u001b[1;33m=\u001b[0m\u001b[1;33m(\u001b[0m\u001b[1;36m0\u001b[0m\u001b[1;33m,\u001b[0m \u001b[1;36m0\u001b[0m\u001b[1;33m,\u001b[0m \u001b[1;36m0\u001b[0m\u001b[1;33m)\u001b[0m\u001b[1;33m,\u001b[0m \u001b[0msize\u001b[0m\u001b[1;33m=\u001b[0m\u001b[1;33m(\u001b[0m\u001b[1;36m350\u001b[0m\u001b[1;33m,\u001b[0m \u001b[1;36m350\u001b[0m\u001b[1;33m)\u001b[0m\u001b[1;33m)\u001b[0m\u001b[1;33m\u001b[0m\u001b[0m\n\u001b[0;32m     21\u001b[0m \u001b[0mmlab\u001b[0m\u001b[1;33m.\u001b[0m\u001b[0mclf\u001b[0m\u001b[1;33m(\u001b[0m\u001b[1;33m)\u001b[0m\u001b[1;33m\u001b[0m\u001b[0m\n",
      "\u001b[1;31mImportError\u001b[0m: No module named mayavi"
     ]
    }
   ],
   "source": [
    "\n",
    "# Retrieve the electron localization data for H2O #############################\n",
    "import os\n",
    "if not os.path.exists('h2o-elf.cube'):\n",
    "    # Download the data\n",
    "    try:\n",
    "        from urllib import urlopen\n",
    "    except ImportError:\n",
    "        from urllib.request import urlopen\n",
    "    print('Downloading data, please wait')\n",
    "    opener = urlopen(\n",
    "        'http://code.enthought.com/projects/mayavi/data/h2o-elf.cube'\n",
    "        )\n",
    "    open('h2o-elf.cube', 'wb').write(opener.read())\n",
    "\n",
    "\n",
    "# Plot the atoms and the bonds ################################################\n",
    "import numpy as np\n",
    "from mayavi import mlab\n",
    "mlab.figure(1, bgcolor=(0, 0, 0), size=(350, 350))\n",
    "mlab.clf()\n",
    "\n",
    "# The position of the atoms\n",
    "atoms_x = np.array([2.9, 2.9, 3.8]) * 40 / 5.5\n",
    "atoms_y = np.array([3.0, 3.0, 3.0]) * 40 / 5.5\n",
    "atoms_z = np.array([3.8, 2.9, 2.7]) * 40 / 5.5\n",
    "\n",
    "O = mlab.points3d(atoms_x[1:-1], atoms_y[1:-1], atoms_z[1:-1],\n",
    "                  scale_factor=3,\n",
    "                  resolution=20,\n",
    "                  color=(1, 0, 0),\n",
    "                  scale_mode='none')\n",
    "\n",
    "H1 = mlab.points3d(atoms_x[:1], atoms_y[:1], atoms_z[:1],\n",
    "                   scale_factor=2,\n",
    "                   resolution=20,\n",
    "                   color=(1, 1, 1),\n",
    "                   scale_mode='none')\n",
    "\n",
    "H2 = mlab.points3d(atoms_x[-1:], atoms_y[-1:], atoms_z[-1:],\n",
    "                   scale_factor=2,\n",
    "                   resolution=20,\n",
    "                   color=(1, 1, 1),\n",
    "                   scale_mode='none')\n",
    "\n",
    "# The bounds between the atoms, we use the scalar information to give\n",
    "# color\n",
    "mlab.plot3d(atoms_x, atoms_y, atoms_z, [1, 2, 1],\n",
    "            tube_radius=0.4, colormap='Reds')\n",
    "\n",
    "# Display the electron localization function ##################################\n",
    "\n",
    "# Load the data, we need to remove the first 8 lines and the '\\n'\n",
    "str = ' '.join(file('h2o-elf.cube').readlines()[9:])\n",
    "data = np.fromstring(str, sep=' ')\n",
    "data.shape = (40, 40, 40)\n",
    "\n",
    "source = mlab.pipeline.scalar_field(data)\n",
    "min = data.min()\n",
    "max = data.max()\n",
    "vol = mlab.pipeline.volume(source, vmin=min + 0.65 * (max - min),\n",
    "                                   vmax=min + 0.9 * (max - min))\n",
    "\n",
    "mlab.view(132, 54, 45, [21, 20, 21.5])\n",
    "\n",
    "mlab.show()"
   ]
  },
  {
   "cell_type": "code",
   "execution_count": null,
   "metadata": {
    "collapsed": true
   },
   "outputs": [],
   "source": []
  }
 ],
 "metadata": {
  "kernelspec": {
   "display_name": "Python 2",
   "language": "python",
   "name": "python2"
  },
  "language_info": {
   "codemirror_mode": {
    "name": "ipython",
    "version": 2
   },
   "file_extension": ".py",
   "mimetype": "text/x-python",
   "name": "python",
   "nbconvert_exporter": "python",
   "pygments_lexer": "ipython2",
   "version": "2.7.3"
  }
 },
 "nbformat": 4,
 "nbformat_minor": 0
}
