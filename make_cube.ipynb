{
 "cells": [
  {
   "cell_type": "code",
   "execution_count": 17,
   "metadata": {
    "collapsed": false
   },
   "outputs": [],
   "source": [
    "import os\n",
    "import numpy as np\n",
    "div = 0.0529177210859\n",
    "dim = 50\n",
    "#os.chdir('/home/domain/data/kirill/AB/XOP/prepare_md/new/out/newABs/')\n",
    "number = float(100)\n"
   ]
  },
  {
   "cell_type": "code",
   "execution_count": 18,
   "metadata": {
    "collapsed": true
   },
   "outputs": [],
   "source": [
    "def header():\n",
    "    cube_file.write(\" CPMD CUBE FILE.\\nOUTER LOOP: X, MIDDLE LOOP: Y, INNER LOOP: Z\\n\")\n",
    "    cube_file.write(\"    1 %f %f %f\\n\" %(151.8840727655894, 52.39089936430976, 31.440318401075448))\n",
    "    cube_file.write(\"   50    %f   0.000000     0.000000\\n\" %(1.4339/1))\n",
    "                    #12.293/div/50\n",
    "    cube_file.write(\"   50    0.000000    %f    0.000000\\n\" %(0.8552/1))\n",
    "                    #7.2800/div/50))\n",
    "    cube_file.write(\"   50    0.000000    0.000000    %f\\n\" %(0.9871/1))\n",
    "                    #6.0557/div/50))\n",
    "    cube_file.write(\"    1    0.000000    %f %f %f\\n\" %(0,0,0))\n",
    "def nucl_grid():\n",
    "    i = 0 \n",
    "    for z in range(grid.shape[0]):\n",
    "        for y in range(grid.shape[1]):\n",
    "            for x in range(grid.shape[2]):\n",
    "                if i < 5:\n",
    "                #    print type(float(grid[x, y, z][n])), type(number)\n",
    "\n",
    "                    cube_file.write(\"%f\" %(float(grid[x,y,z])/number))\n",
    "                    i += 1\n",
    "                elif i == 5:\n",
    "                    cube_file.write(\"%f\\n\" %(float(grid[x, y, z])/number))\n",
    "                    i = 0 \n"
   ]
  },
  {
   "cell_type": "code",
   "execution_count": 31,
   "metadata": {
    "collapsed": false
   },
   "outputs": [],
   "source": [
    "files = []\n",
    "for a in os.walk('.'):\n",
    "    if a[0] != \"./oldtasks\":\n",
    "        files.append(a[0]+a[0][1:]+\"S-xyz.fes\")\n",
    "        files.append(a[0]+a[0][1:]+\"R-xyz.fes\")\n",
    "files = files[2:]\n"
   ]
  },
  {
   "cell_type": "code",
   "execution_count": 32,
   "metadata": {
    "collapsed": false
   },
   "outputs": [
    {
     "name": "stdout",
     "output_type": "stream",
     "text": [
      "['./a49/a49S-xyz.fes', './a49/a49R-xyz.fes', './a1/a1S-xyz.fes', './a1/a1R-xyz.fes', './a7/a7S-xyz.fes', './a7/a7R-xyz.fes', './a21/a21S-xyz.fes', './a21/a21R-xyz.fes', './a46/a46S-xyz.fes', './a46/a46R-xyz.fes', './a43/a43S-xyz.fes', './a43/a43R-xyz.fes']\n"
     ]
    }
   ],
   "source": [
    "print files"
   ]
  },
  {
   "cell_type": "code",
   "execution_count": 33,
   "metadata": {
    "collapsed": false
   },
   "outputs": [
    {
     "name": "stdout",
     "output_type": "stream",
     "text": [
      "x step -1.34027552728\n",
      "y step -0.77056590874\n",
      "z step -0.693303491971\n",
      "123.324797149\n",
      "x step -1.43256820858\n",
      "y step -0.852540685393\n",
      "z step -0.954191753251\n",
      "128.511874535\n",
      "x step -1.33597003698\n",
      "y step -0.749278722427\n",
      "z step -1.08719376319\n",
      "124.741272441\n",
      "x step -1.27673059388\n",
      "y step -0.720209721071\n",
      "z step -0.860437040988\n",
      "125.187676017\n",
      "x step -1.39774634096\n",
      "y step -0.670769086435\n",
      "z step -0.96339857607\n",
      "125.706907689\n",
      "x step -1.39044235666\n",
      "y step -0.734003564797\n",
      "z step -0.906876867677\n",
      "124.641163738\n",
      "x step -1.43651349393\n",
      "y step -0.80344482936\n",
      "z step -0.927107349981\n",
      "124.679128799\n",
      "x step -1.41790239121\n",
      "y step -0.772830494809\n",
      "z step -0.870542447854\n",
      "125.22932217\n",
      "x step -1.43231251707\n",
      "y step -0.969122903587\n",
      "z step -1.03521935291\n",
      "131.051558484\n",
      "x step -1.40440936102\n",
      "y step -0.841437194616\n",
      "z step -1.10821330257\n",
      "128.401346573\n",
      "x step -1.44667443562\n",
      "y step -0.792666062942\n",
      "z step -0.96242903086\n",
      "124.232934336\n",
      "x step -1.37422889217\n",
      "y step -0.632975720905\n",
      "z step -1.05954668431\n",
      "127.769129928\n"
     ]
    }
   ],
   "source": [
    "\n",
    "\n",
    "for fs in files:\n",
    "    fes = open(fs, 'r')\n",
    "    np.array([])\n",
    "    a = []\n",
    "    n=[]\n",
    "    for line in fes:\n",
    "\n",
    "        lin = line.strip().split()[0:4]\n",
    "        if len(lin) == 0:\n",
    "            continue\n",
    "        if lin[3] == 'inf' or float(lin[3]) > 60: lin[3] = 140\n",
    "        else:\n",
    "            n.append(float(lin[3]))\n",
    "        ln = [float(i)/div for i in lin[0:3]]\n",
    "        ln.append(float(lin[3]))\n",
    "\n",
    "        a.append(ln)\n",
    "    print \"x step \" + str(a[0][0]-a[1][0])\n",
    "    print \"y step \" + str(a[0][1]-a[dim+1][1])\n",
    "    print \"z step \" + str(a[0][2]-a[dim**2][2])\n",
    "\n",
    "    fes.close()\n",
    "    d = [x[3] for x in a]\n",
    "    b = np.array(d)\n",
    "    c = b.reshape(dim,dim,dim)\n",
    "    c.dump('fes_rew.np')\n",
    "\n",
    "    grid = c\n",
    "\n",
    "\n",
    "\n",
    "    cube_file = open(\"%s.cube\" % (fs[:-4]), \"w\")\n",
    "    header()\n",
    "    nucl_grid()\n",
    "    cube_file.close()\n",
    "    asd = grid.flat[np.flatnonzero(grid)]\n",
    "    print np.mean(asd)\n"
   ]
  },
  {
   "cell_type": "code",
   "execution_count": 221,
   "metadata": {
    "collapsed": false
   },
   "outputs": [
    {
     "data": {
      "text/plain": [
       "949"
      ]
     },
     "execution_count": 221,
     "metadata": {},
     "output_type": "execute_result"
    }
   ],
   "source": [
    "len([qwe for qwe in n if qwe > 100])"
   ]
  },
  {
   "cell_type": "code",
   "execution_count": 19,
   "metadata": {
    "collapsed": false
   },
   "outputs": [
    {
     "name": "stdout",
     "output_type": "stream",
     "text": [
      "x step -1.17163019737\n",
      "y step -1.12123120162\n",
      "z step -1.13383567487\n"
     ]
    }
   ],
   "source": [
    "import os\n",
    "import numpy as np\n",
    "div = 0.0529177210859\n",
    "os.chdir('/home/domain/kirill/my_scripts')\n",
    "fes = open(\"pot.pot\", 'r')\n",
    "np.array([])\n",
    "a = []\n",
    "n=[]\n",
    "for line in fes:\n",
    "    \n",
    "    lin = line.strip().split()[0:4]\n",
    "    if len(lin) == 0:\n",
    "        continue\n",
    "  #  if lin[3] == 'inf' or float(lin[3]) > 60: lin[3] = 140\n",
    "    else:\n",
    "        n.append(float(lin[3]))\n",
    "    ln = [float(i)/div for i in lin[0:3]]\n",
    "    ln.append(float(lin[3]))\n",
    "\n",
    "    a.append(ln)\n",
    "print \"x step \" + str(a[0][0]-a[25001][0])\n",
    "print \"y step \" + str(a[0][1]-a[151][1])\n",
    "print \"z step \" + str(a[0][2]-a[1][2])\n",
    "\n",
    "fes.close()\n",
    "d = [x[3] for x in a]\n",
    "b = np.array(d)\n",
    "c = b.reshape(151,151,151)\n",
    "c.dump('fes_rew.np')\n",
    "\n"
   ]
  },
  {
   "cell_type": "code",
   "execution_count": 22,
   "metadata": {
    "collapsed": false
   },
   "outputs": [
    {
     "name": "stdout",
     "output_type": "stream",
     "text": [
      "2877.15958357\n"
     ]
    }
   ],
   "source": [
    "\n",
    "grid = c\n",
    "\n",
    "n_points = 151\n",
    "X = 9.3\n",
    "Y = 8.9\n",
    "Z = 9.0\n",
    "\n",
    "\n",
    "def header():\n",
    "    cube_file.write(\" CPMD CUBE FILE.\\nOUTER LOOP: X, MIDDLE LOOP: Y, INNER LOOP: Z\\n\")\n",
    "    cube_file.write(\"    1 %f %f %f\\n\" %(0, 0, 0))\n",
    "    cube_file.write(\"  %d    %f   0.000000     0.000000\\n\" %(n_points, X/div/n_points))\n",
    "                    #12.293/div/50\n",
    "    cube_file.write(\"  %d    0.000000    %f    0.000000\\n\" %(n_points, Y/div/n_points))\n",
    "                    #7.2800/div/50))\n",
    "    cube_file.write(\"  %d    0.000000    0.000000    %f\\n\" %(n_points, Z/div/n_points))\n",
    "                    #6.0557/div/50))\n",
    "    cube_file.write(\"    1   0.000000    %f %f %f\\n\" %(0,0,0))\n",
    "    i = 0 \n",
    "    for x in range(grid.shape[0]):\n",
    "        for y in range(grid.shape[1]):\n",
    "            for z in range(grid.shape[2]):\n",
    "                if i < 5:\n",
    "                #    print type(float(grid[x, y, z][n])), type(number)\n",
    "\n",
    "                    cube_file.write(\"%f\" %(float(grid[x,y,z])/number))\n",
    "                    i += 1\n",
    "                elif i == 5:\n",
    "                    cube_file.write(\"%f\\n\" %(float(grid[x, y, z])/number))\n",
    "                    i = 0 \n",
    "                    \n",
    "                    \n",
    "number = float(1200)\n",
    "\n",
    "cube_file = open(\"%s.cube\" %\"test\", \"w\")\n",
    "header()\n",
    "nucl_grid()\n",
    "cube_file.close()\n",
    "asd = grid.flat[np.flatnonzero(grid)]\n",
    "print np.mean(asd)\n"
   ]
  },
  {
   "cell_type": "code",
   "execution_count": 246,
   "metadata": {
    "collapsed": false
   },
   "outputs": [
    {
     "ename": "SyntaxError",
     "evalue": "unexpected EOF while parsing (<ipython-input-246-e1ce3577ae6d>, line 1)",
     "output_type": "error",
     "traceback": [
      "\u001b[1;36m  File \u001b[1;32m\"<ipython-input-246-e1ce3577ae6d>\"\u001b[1;36m, line \u001b[1;32m1\u001b[0m\n\u001b[1;33m    print \"x step \" + str(a[0][0]-a[25001][0]\u001b[0m\n\u001b[1;37m                                             ^\u001b[0m\n\u001b[1;31mSyntaxError\u001b[0m\u001b[1;31m:\u001b[0m unexpected EOF while parsing\n"
     ]
    }
   ],
   "source": [
    "print \"x step \" + str(a[0][0]-a[25001][0]"
   ]
  },
  {
   "cell_type": "code",
   "execution_count": 198,
   "metadata": {
    "collapsed": false
   },
   "outputs": [
    {
     "data": {
      "text/plain": [
       "[]"
      ]
     },
     "execution_count": 198,
     "metadata": {},
     "output_type": "execute_result"
    }
   ],
   "source": [
    "[zzz for zzz in d if d<=120]"
   ]
  },
  {
   "cell_type": "code",
   "execution_count": 168,
   "metadata": {
    "collapsed": false
   },
   "outputs": [
    {
     "data": {
      "text/plain": [
       "(222.14562076317856, 94.30005483228624, 79.80861445534362)"
      ]
     },
     "execution_count": 168,
     "metadata": {},
     "output_type": "execute_result"
    }
   ],
   "source": [
    "a[-1][0],a[-1][1],a[-1][2]"
   ]
  },
  {
   "cell_type": "code",
   "execution_count": null,
   "metadata": {
    "collapsed": true
   },
   "outputs": [],
   "source": []
  }
 ],
 "metadata": {
  "kernelspec": {
   "display_name": "Python 2",
   "language": "python",
   "name": "python2"
  },
  "language_info": {
   "codemirror_mode": {
    "name": "ipython",
    "version": 2
   },
   "file_extension": ".py",
   "mimetype": "text/x-python",
   "name": "python",
   "nbconvert_exporter": "python",
   "pygments_lexer": "ipython2",
   "version": "2.7.3"
  }
 },
 "nbformat": 4,
 "nbformat_minor": 0
}
