{
 "cells": [
  {
   "cell_type": "code",
   "execution_count": 91,
   "metadata": {
    "collapsed": false
   },
   "outputs": [
    {
     "ename": "IndentationError",
     "evalue": "expected an indented block (<ipython-input-91-a3955cc1148d>, line 40)",
     "output_type": "error",
     "traceback": [
      "\u001b[1;36m  File \u001b[1;32m\"<ipython-input-91-a3955cc1148d>\"\u001b[1;36m, line \u001b[1;32m40\u001b[0m\n\u001b[1;33m    sex = open(f,'r')\u001b[0m\n\u001b[1;37m      ^\u001b[0m\n\u001b[1;31mIndentationError\u001b[0m\u001b[1;31m:\u001b[0m expected an indented block\n"
     ]
    }
   ],
   "source": [
    "import os\n",
    "os.chdir('/home/domain/data/kirill/AB/XOP/md/lom2/a5/S/md-qm-transition/prfs')\n",
    "\n",
    "def distance(p0, p1):\n",
    "    return math.sqrt((p0[0] - p1[0])**2 + (p0[1] - p1[1])**2 + (p0[2] - p1[2])**2)\n",
    "def unit_vector(vector):\n",
    "    \"\"\" Returns the unit vector of the vector.  \"\"\"\n",
    "    return vector / np.linalg.norm(vector)\n",
    "\n",
    "def angle(v1, v2):\n",
    "    \"\"\" Returns the angle in radians between vectors 'v1' and 'v2'::\n",
    "\n",
    "            >>> angle_between((1, 0, 0), (0, 1, 0))\n",
    "            1.5707963267948966\n",
    "            >>> angle_between((1, 0, 0), (1, 0, 0))\n",
    "            0.0\n",
    "            >>> angle_between((1, 0, 0), (-1, 0, 0))\n",
    "            3.141592653589793\n",
    "    \"\"\"\n",
    "    v1_u = unit_vector(v1)\n",
    "    v2_u = unit_vector(v2)\n",
    "    angle = np.arccos(np.dot(v1_u, v2_u))\n",
    "    if np.isnan(angle):\n",
    "        if (v1_u == v2_u).all():\n",
    "            return 0.0\n",
    "        else:\n",
    "            return np.pi\n",
    "    return angle\n",
    "\n",
    "\n",
    "\n",
    "# get files\n",
    "for dir in os.walk(\".\"): \n",
    "    files = dir[2]\n",
    "    break\n",
    "# read files\n",
    "for f in files:\n",
    "    if f.endswith(\".gro\"):\n",
    "\n",
    "    sex = open(f,'r')\n",
    "    for line in sex: \n",
    "        if \" P \" in line: P = ([float(line[31:38].strip()),float(line[40:46].strip()),float(line[48:54].strip())])\n",
    "        if \" O \" in line: O = ([float(line[31:38].strip()),float(line[40:46].strip()),float(line[48:54].strip())]) # tropinol\n",
    "        if \"O1\" in line: O1 = ([float(line[31:38].strip()),float(line[40:46].strip()),float(line[48:54].strip())]) # PhNO2 \n",
    "        if \"O2\" in line: O2 = ([float(line[31:38].strip()),float(line[40:46].strip()),float(line[48:54].strip())]) # phosphoryl\n",
    "        if \"C8\" in line: C8 = ([float(line[31:38].strip()),float(line[40:46].strip()),float(line[48:54].strip())]) # Ph\n",
    "        if \"OH\" in line: OH = ([float(line[31:38].strip()),float(line[40:46].strip()),float(line[48:54].strip())]) # tyrosine\n",
    "        if \"CD1\" in line: CD1 = ([float(line[31:38].strip()),float(line[40:46].strip()),float(line[48:54].strip())]) # tyrosine\n",
    "    sex.close()\n",
    "    \n",
    "    result = []\n",
    "    \n",
    "\n",
    "    distOP = distance(OH, P)\n",
    "    d1 = distance(O, P)\n",
    "    d2 = distance(O2, P)\n",
    "    d3 = distance(C8, P)\n",
    "    \n",
    "    C_OH = np.subtract(OH, CD1)\n",
    "    OH_P = np.subtract(OH, P)\n",
    "    P_O1 = np.subtract(P, O1)\n",
    "    \n",
    "    ang_C_OH_P = angle(C_OH, OH_P)\n",
    "    ang_OH_P_O1 = angle(OH_P, P_O1)\n",
    "\n",
    "    print \"d = \" + str(distOP)\n",
    "    print \"d1 = \" + str(d1)\n",
    "    print \"d2 = \" + str(d2)\n",
    "    print \"d3 = \" + str(d3)\n",
    "    print \"angle C - OH - P = \" + str(ang_C_OH_P)\n",
    "    print \"angle OH - P - O1 = \" + str(ang_OH_P_O1)\n",
    "    \n",
    "    if (d1 < 1.3 * distOP) and \n",
    "    (d2 < 1.3 * distOP) and \n",
    "    (d3 < 1.3 * distOP) and \n",
    "    (ang_C_OH_P > 90) and \n",
    "    (ang_OH_P_O1 > 90):\n",
    "        print f + \" has favorable geometry\"\n",
    "    "
   ]
  },
  {
   "cell_type": "code",
   "execution_count": null,
   "metadata": {
    "collapsed": true
   },
   "outputs": [],
   "source": []
  },
  {
   "cell_type": "code",
   "execution_count": null,
   "metadata": {
    "collapsed": true
   },
   "outputs": [],
   "source": []
  },
  {
   "cell_type": "markdown",
   "metadata": {},
   "source": [
    "## docking energy analysis"
   ]
  },
  {
   "cell_type": "code",
   "execution_count": 132,
   "metadata": {
    "collapsed": true
   },
   "outputs": [],
   "source": [
    "import os\n",
    "\n",
    "import numpy as np\n",
    "os.chdir('/home/domain/data/kirill/AB/XOP/docking/fav_an/a17')\n",
    "\n",
    "def distance(p0, p1):\n",
    "    return math.sqrt((p0[0] - p1[0])**2 + (p0[1] - p1[1])**2 + (p0[2] - p1[2])**2)\n",
    "def unit_vector(vector):\n",
    "    \"\"\" Returns the unit vector of the vector.  \"\"\"\n",
    "    return vector / np.linalg.norm(vector)\n",
    "\n",
    "def angle(v1, v2):\n",
    "    \"\"\" Returns the angle in radians between vectors 'v1' and 'v2'::\n",
    "\n",
    "            >>> angle_between((1, 0, 0), (0, 1, 0))\n",
    "            1.5707963267948966\n",
    "            >>> angle_between((1, 0, 0), (1, 0, 0))\n",
    "            0.0\n",
    "            >>> angle_between((1, 0, 0), (-1, 0, 0))\n",
    "            3.141592653589793\n",
    "    \"\"\"\n",
    "    v1_u = unit_vector(v1)\n",
    "    v2_u = unit_vector(v2)\n",
    "    angle = np.arccos(np.dot(v1_u, v2_u))\n",
    "    if np.isnan(angle):\n",
    "        if (v1_u == v2_u).all():\n",
    "            return 0.0\n",
    "        else:\n",
    "            return np.pi\n",
    "    return angle\n",
    "\n",
    "\n",
    "\n",
    "# get files\n",
    "for dir in os.walk(\".\"): \n",
    "    files = dir[2]\n",
    "    break\n",
    "\n"
   ]
  },
  {
   "cell_type": "code",
   "execution_count": 133,
   "metadata": {
    "collapsed": false
   },
   "outputs": [
    {
     "name": "stdout",
     "output_type": "stream",
     "text": [
      "['a17.pdbqt', 'a17R.log', 'a17S.log', 'do.bash', 'outa17R.pdbqt', 'outa17S.pdbqt', 'xopR.pdbqt', 'xopS.pdbqt']\n"
     ]
    }
   ],
   "source": [
    "print files"
   ]
  },
  {
   "cell_type": "code",
   "execution_count": 136,
   "metadata": {
    "collapsed": false
   },
   "outputs": [
    {
     "name": "stdout",
     "output_type": "stream",
     "text": [
      "['a17.pdbqt']\n"
     ]
    }
   ],
   "source": [
    "ab = []\n",
    "ab = [files[0]]\n",
    "print ab"
   ]
  },
  {
   "cell_type": "code",
   "execution_count": null,
   "metadata": {
    "collapsed": true
   },
   "outputs": [],
   "source": []
  },
  {
   "cell_type": "code",
   "execution_count": 137,
   "metadata": {
    "collapsed": false
   },
   "outputs": [],
   "source": [
    "# read files\n",
    "resultS = []\n",
    "resultR = []\n",
    "for f in ab:\n",
    "    resultR.append([f[:-6]])\n",
    "    resultS.append([f[:-6]])\n",
    "    a = open(f,'r')\n",
    "    for line in a:\n",
    "        if \"CB  TYR B  33\" in line: CB = ([float(line[31:38].strip()),float(line[40:46].strip()),float(line[48:54].strip())]) # tyrosine\n",
    "        if \"CD1 TYR B  33\" in line: CD1 = ([float(line[31:38].strip()),float(line[40:46].strip()),float(line[48:54].strip())]) # tyrosine\n",
    "    a.close()\n",
    "    \n",
    "    \n",
    "    sex = open(\"out\"+f[:-6]+\"R.pdbqt\",'r')\n",
    "    for line in sex: \n",
    "        if \"1  P\" in line: P = ([float(line[31:38].strip()),float(line[40:46].strip()),float(line[48:54].strip())])\n",
    "        if \"14  O\" in line: O1 = ([float(line[31:38].strip()),float(line[40:46].strip()),float(line[48:54].strip())]) # PhNO2  \n",
    "            \n",
    "        if \"ENDMDL\" in line:\n",
    "            distOP = distance(CB, P) / 10\n",
    "            CB_P = np.subtract(CB, P)\n",
    "            P_O1 = np.subtract(P, O1)\n",
    "            ang_CB_P_O1 = (180 / 3.14) * angle(CB, P_O1)\n",
    "            resultR[-1].append((distOP,ang_CB_P_O1))\n",
    "\n",
    "    sex.close()\n",
    "    \n",
    "    sex = open(\"out\"+f[:-6]+\"S.pdbqt\",'r')\n",
    "    for line in sex: \n",
    "\n",
    "        if \"1  P\" in line: \n",
    "            P = ([float(line[31:38].strip()),float(line[40:46].strip()),float(line[48:54].strip())])\n",
    "        if \"9  O   LIG\" in line: \n",
    "            O1 = ([float(line[31:38].strip()),float(line[40:46].strip()),float(line[48:54].strip())]) # PhNO2  \n",
    "            \n",
    "        if \"ENDMDL\" in line:\n",
    "            distOP = distance(CB, P) / 10\n",
    "            CB_P = np.subtract(CB, P)\n",
    "            P_O1 = np.subtract(P, O1)\n",
    "            ang_CB_P_O1 = (180 / 3.14) * angle(CB, P_O1)\n",
    "            resultS[-1].append((distOP,ang_CB_P_O1))\n",
    "\n",
    "    sex.close()\n",
    "\n",
    "\n",
    "for a in resultS:\n",
    "    out = open(a[0]+\"Sgeom.out\", 'w')\n",
    "    for r in a[1:]:   \n",
    "        out.write(str(r[0])+'\\t'+str(r[1]) + '\\n')\n",
    "    out.close()\n",
    "for a in resultR:\n",
    "    out = open(a[0]+\"Rgeom.out\", 'w')\n",
    "    for r in a[1:]:   \n",
    "        out.write(str(r[0])+'\\t'+str(r[1]) + '\\n')\n",
    "    out.close()\n"
   ]
  },
  {
   "cell_type": "code",
   "execution_count": 130,
   "metadata": {
    "collapsed": false
   },
   "outputs": [
    {
     "data": {
      "text/plain": [
       "[(0.8201502362372391, 52.295038232002199),\n",
       " (0.8445116636257897, 36.65660462928669),\n",
       " (0.7167216265747808, 45.420588173622072),\n",
       " (0.8175518699140742, 67.68111831107187),\n",
       " (0.7439071245794056, 92.9604693574978),\n",
       " (0.8086004019291607, 38.356979688520582),\n",
       " (0.8060141127796703, 59.276809332011453),\n",
       " (0.9713511517468852, 51.068449237482973),\n",
       " (1.0577478385702332, 106.31836734106572)]"
      ]
     },
     "execution_count": 130,
     "metadata": {},
     "output_type": "execute_result"
    }
   ],
   "source": [
    "a[1:]"
   ]
  },
  {
   "cell_type": "code",
   "execution_count": 66,
   "metadata": {
    "collapsed": false
   },
   "outputs": [
    {
     "data": {
      "text/plain": [
       "[88.428, 53.323, 36.853]"
      ]
     },
     "execution_count": 66,
     "metadata": {},
     "output_type": "execute_result"
    }
   ],
   "source": [
    "P"
   ]
  },
  {
   "cell_type": "code",
   "execution_count": 45,
   "metadata": {
    "collapsed": false
   },
   "outputs": [
    {
     "data": {
      "text/plain": [
       "True"
      ]
     },
     "execution_count": 45,
     "metadata": {},
     "output_type": "execute_result"
    }
   ],
   "source": [
    "\"CD1 TYR B  33\" in lns[2265]"
   ]
  },
  {
   "cell_type": "code",
   "execution_count": null,
   "metadata": {
    "collapsed": true
   },
   "outputs": [],
   "source": [
    " asd = [             1.663, \n",
    " -0.818, \n",
    " -0.637, \n",
    "  0.401, \n",
    " -0.019, \n",
    "  0.189, \n",
    "  0.046, \n",
    "  0.001, \n",
    "  0.047, \n",
    "  0.201, \n",
    " -0.027, \n",
    "  0.179, \n",
    "  0.265, \n",
    " -0.614, \n",
    "  0.427, \n",
    " -0.148, \n",
    "  0.241, \n",
    " -0.306, \n",
    "  0.261, \n",
    " -0.194, \n",
    "  0.847, \n",
    " -0.459, \n",
    " -0.456, \n",
    " -0.465, \n",
    "  0.169, \n",
    " -0.045, \n",
    "  0.128, \n",
    " -0.041, \n",
    "  0.164,\n",
    "\n",
    "]\n",
    "sum(asd)"
   ]
  }
 ],
 "metadata": {
  "kernelspec": {
   "display_name": "Python 2",
   "language": "python",
   "name": "python2"
  },
  "language_info": {
   "codemirror_mode": {
    "name": "ipython",
    "version": 2
   },
   "file_extension": ".py",
   "mimetype": "text/x-python",
   "name": "python",
   "nbconvert_exporter": "python",
   "pygments_lexer": "ipython2",
   "version": "2.7.3"
  }
 },
 "nbformat": 4,
 "nbformat_minor": 0
}
