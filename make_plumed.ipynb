{
 "cells": [
  {
   "cell_type": "markdown",
   "metadata": {},
   "source": [
    "# intended for making several plumed files for different models, but using same atom types"
   ]
  },
  {
   "cell_type": "code",
   "execution_count": 4,
   "metadata": {
    "collapsed": true
   },
   "outputs": [],
   "source": [
    "import pmx\n",
    "import os"
   ]
  },
  {
   "cell_type": "code",
   "execution_count": 8,
   "metadata": {
    "collapsed": false
   },
   "outputs": [],
   "source": [
    "os.chdir(\"/home/domain/data/kirill/AB/XOP/md/s/\")"
   ]
  },
  {
   "cell_type": "code",
   "execution_count": 9,
   "metadata": {
    "collapsed": false
   },
   "outputs": [],
   "source": [
    "for a in os.walk('.'):\n",
    "    files = a[2]\n",
    "    \n",
    "name = files[0] # for testing"
   ]
  },
  {
   "cell_type": "code",
   "execution_count": 10,
   "metadata": {
    "collapsed": false
   },
   "outputs": [
    {
     "name": "stdout",
     "output_type": "stream",
     "text": [
      "['./s17R.gro', './s17S.gro', './s7R.gro', './s7S.gro']\n"
     ]
    }
   ],
   "source": [
    "files = []\n",
    "for a in os.walk('.'):\n",
    "    fz = a[2]\n",
    "    files.append([a[0]+\"/\"+x for x in fz if x.endswith(\"S.gro\") or x.endswith(\"R.gro\")])\n",
    "files = [k for z in [f for f in files if len(f) > 0] for k in z]\n",
    "print files\n",
    "#files = [files[0]] # for test"
   ]
  },
  {
   "cell_type": "code",
   "execution_count": 15,
   "metadata": {
    "collapsed": false
   },
   "outputs": [
    {
     "name": "stdout",
     "output_type": "stream",
     "text": [
      "./s17R.gro\n",
      "./s17S.gro\n",
      "./s7R.gro\n",
      "./s7S.gro\n"
     ]
    }
   ],
   "source": [
    "COM = []\n",
    "for name in files:    \n",
    "    m = pmx.Model(name)\n",
    "    print name\n",
    "    lig = m.fetch_residues(\"XOP\")[0]\n",
    "    ids = [str(i.id) for i in lig.atoms if \"H\" not in i.name] # get non hydrogen atoms\n",
    "    ligand = \",\".join(ids)\n",
    "\n",
    "    nitro = [str(i.id)for i in lig.atoms if \"N1\" in i.name][0]\n",
    "\n",
    "\n",
    "\n",
    "    pros = m.fetch_residues(\"PRO\")\n",
    "    for pro in pros: # get the proline with the right context\n",
    "        if (m.residues[pro.id-3].resname == \"THR\" and\n",
    "            m.residues[pro.id-2].resname == \"ALA\" and\n",
    "            m.residues[pro.id].resname == \"LYS\" and\n",
    "            m.residues[pro.id+1].resname == \"LEU\"):\n",
    "            ats = pro.atoms   \n",
    "    pros = m.fetch_residues(\"LEU\")\n",
    "    for pro in pros: # get the leucine with the right context\n",
    "        if (m.residues[pro.id-3].resname == \"LYS\" and\n",
    "            m.residues[pro.id-2].resname == \"GLY\" and\n",
    "            m.residues[pro.id].resname == \"GLU\" and\n",
    "            m.residues[pro.id+1].resname == \"TRP\"):\n",
    "            ats.extend(pro.atoms)\n",
    "    ids = [str(i.id) for i in ats if \"H\" not in i.name] # get non hydrogen atoms\n",
    "    pocket = \",\".join(ids)\n",
    "    # COM for report\n",
    "    #atoms = [m.atoms[int(z)] for z in ids]\n",
    "    #COM.append([[sum(x.x[0]/len(atoms) for x in atoms)],\n",
    "    #            [sum(x.x[1]/len(atoms) for x in atoms)],\n",
    "    #            [sum(x.x[2]/len(atoms) for x in atoms)]])\n",
    "\n",
    "    f = open(name[:-4]+\".dat\", 'w')\n",
    "    f.write(\"\\\n",
    "    RESTART\\n\\\n",
    "    p: COM ATOMS={0}\\n\\\n",
    "    c: COM ATOMS={1}\\n\\\n",
    "    xyz: POSITION ATOM=c NOPBC\\n\\\n",
    "    d: DISTANCE ATOMS=c,p COMPONENTS NOPBC\\n\\\n",
    "    d2: DISTANCE ATOMS={2},p\\n\\\n",
    "    METAD ...\\n\\\n",
    "    LABEL=mad\\n\\\n",
    "    ARG=d2,d.x\\n\\\n",
    "    PACE=250\\n\\\n",
    "    BIASFACTOR=10\\n\\\n",
    "    HEIGHT=1\\n\\\n",
    "    SIGMA=0.05,0.05\\n\\\n",
    "    FILE=HILLS{3}\\n\\\n",
    "    GRID_MIN=0,-5\\n\\\n",
    "    GRID_MAX=6,1.5\\n\\\n",
    "    TEMP=300\\n\\\n",
    "    ... METAD\\n\\\n",
    "    UPPER_WALLS ARG=xyz.x AT=10.75 KAPPA=1000 LABEL=uwa\\n\\\n",
    "    LOWER_WALLS ARG=xyz.x AT=8.25 KAPPA=1000 LABEL=lwa\\n\\\n",
    "    EXTERNAL ARG=xyz.x,xyz.y,xyz.z FILE=external.pot LABEL=external\\n\\\n",
    "    PRINT STRIDE=100 ARG=d.x,d2,mad.bias,external.bias,uwa.bias,lwa.bias,xyz.x,xyz.y,xyz.z FILE=COLVAR{3}\\n\\\n",
    "    \".format(pocket,ligand,nitro,name[2:-4]))\n",
    "    f.close()\n",
    "    \n",
    "    \n",
    "    "
   ]
  },
  {
   "cell_type": "code",
   "execution_count": 14,
   "metadata": {
    "collapsed": false
   },
   "outputs": [
    {
     "data": {
      "text/plain": [
       "'s7S'"
      ]
     },
     "execution_count": 14,
     "metadata": {},
     "output_type": "execute_result"
    }
   ],
   "source": [
    "name[2:-4]"
   ]
  },
  {
   "cell_type": "code",
   "execution_count": 51,
   "metadata": {
    "collapsed": false
   },
   "outputs": [
    {
     "name": "stdout",
     "output_type": "stream",
     "text": [
      "7\n"
     ]
    }
   ],
   "source": [
    "a = [[1,2,3],[2,2,2],[3,3,3]]\n",
    "print sum(row[0] for row in a)"
   ]
  },
  {
   "cell_type": "code",
   "execution_count": 53,
   "metadata": {
    "collapsed": false
   },
   "outputs": [],
   "source": [
    "at=m.atoms[3833]"
   ]
  },
  {
   "cell_type": "code",
   "execution_count": 57,
   "metadata": {
    "collapsed": false
   },
   "outputs": [
    {
     "data": {
      "text/plain": [
       "''"
      ]
     },
     "execution_count": 57,
     "metadata": {},
     "output_type": "execute_result"
    }
   ],
   "source": []
  },
  {
   "cell_type": "markdown",
   "metadata": {},
   "source": [
    "##### build driver files"
   ]
  },
  {
   "cell_type": "code",
   "execution_count": 43,
   "metadata": {
    "collapsed": false
   },
   "outputs": [
    {
     "name": "stdout",
     "output_type": "stream",
     "text": [
      "./newABs/a49/a49S.gro\n",
      "./newABs/a49/a49R.gro\n",
      "./newABs/a1/a1R.gro\n",
      "./newABs/a1/a1S.gro\n",
      "./newABs/a7/a7S.gro\n",
      "./newABs/a7/a7R.gro\n",
      "./newABs/a21/a21R.gro\n",
      "./newABs/a21/a21S.gro\n",
      "./newABs/a46/a46R.gro\n",
      "./newABs/a46/a46S.gro\n",
      "./newABs/a43/a43R.gro\n",
      "./newABs/a43/a43S.gro\n"
     ]
    }
   ],
   "source": [
    "for name in files:    \n",
    "    print name\n",
    "    m = pmx.Model(name)\n",
    "    lig = m.fetch_residues(\"XOP\")[0]\n",
    "    ids = [str(i.id) for i in lig.atoms if \"H\" not in i.name] # get non hydrogen atoms\n",
    "    ligand = \",\".join(ids)\n",
    "\n",
    "    p = [str(i.id)for i in lig.atoms if \"P\" in i.name][0]\n",
    "    o = [str(i.id)for i in lig.atoms if \"O\" in i.name][0]\n",
    "    o1 = [str(i.id)for i in lig.atoms if \"O1\" in i.name][0]\n",
    "    o2 = [str(i.id)for i in lig.atoms if \"O2\" in i.name][0]\n",
    "    c8 = [str(i.id)for i in lig.atoms if \"C8\" in i.name][0]\n",
    "\n",
    "\n",
    "    pros = m.fetch_residues(\"TYR\")\n",
    "    for pro in pros: # get the tyrosine with the right context\n",
    "        if (m.residues[pro.id-2].resname == \"ASN\" and\n",
    "            m.residues[pro.id].resname == \"VAL\"):\n",
    "            ats = pro.atoms   \n",
    "\n",
    "    oh=[str(i.id)for i in ats if \"OH\" in i.name][0]\n",
    "    cg=[str(i.id)for i in ats if \"CG\" in i.name][0]\n",
    "    cb=[str(i.id)for i in ats if \"CB\" in i.name][0]\n",
    "    ca=[str(i.id)for i in ats if \"CA\" in i.name][0]\n",
    "    c=[str(i.id)for i in ats if \"C\" == i.name][0]\n",
    "    name = name.split(\"/\")[-1]\n",
    "    f = open(\"driver\"+name[:-4]+\".dat\", 'w')\n",
    "    f.write(\"\\\n",
    "    a52y: DISTANCE ATOMS={p},{oh}\\n\\\n",
    "    xi: TORSION ATOMS={oh},{cb},{ca},{c}\\n\\\n",
    "    ang: ANGLE ATOMS={oh},{p},{o1}\\n\\\n",
    "    ang2: ANGLE ATOMS={cg},{oh},{p}\\n\\\n",
    "    d1: DISTANCE ATOMS={o},{oh}\\n\\\n",
    "    d2: DISTANCE ATOMS={o2},{oh}\\n\\\n",
    "    d3: DISTANCE ATOMS={c8},{oh}\\n\\\n",
    "    a1: ANGLE ATOMS={oh},{p},{o}\\n\\\n",
    "    a2: ANGLE ATOMS={oh},{p},{o2}\\n\\\n",
    "    a3: ANGLE ATOMS={oh},{p},{c8}\\n\\\n",
    "    PRINT STRIDE=1 ARG=a52y,xi,ang,ang2,d1,d2,d3,a1,a2,a3 FILE=driver{name}.out\\n\\\n",
    "    \".format(p=p,oh=oh,cg=cg,cb=cb,ca=ca,c=c,o=o,o1=o1,o2=o2,c8=c8,name=name[:-4]))\n",
    "    f.close()"
   ]
  },
  {
   "cell_type": "markdown",
   "metadata": {},
   "source": [
    "# additional column for new fes"
   ]
  },
  {
   "cell_type": "code",
   "execution_count": 2,
   "metadata": {
    "collapsed": false
   },
   "outputs": [
    {
     "name": "stdout",
     "output_type": "stream",
     "text": [
      "['./s17R.gro', './s17S.gro', './s7R.gro', './s7S.gro']\n"
     ]
    }
   ],
   "source": [
    "import os\n",
    "import\n",
    "os.chdir(\"/home/domain/data/kirill/AB/XOP/md/s\")\n",
    "files = []\n",
    "for a in os.walk('.'):\n",
    "    fz = a[2]\n",
    "    files.append([a[0]+\"/\"+x for x in fz if x.endswith(\".gro\") or x.endswith(\".gro\")])\n",
    "files = [k for z in [f for f in files if len(f) > 0] for k in z]\n",
    "\n",
    "#files = [files[0]] # for test\n",
    "#files = [files[2]] # for test\n",
    "print files"
   ]
  },
  {
   "cell_type": "markdown",
   "metadata": {},
   "source": [
    "# THIS IS FOR d(Cb - P) - theta PLOTS!!!\n",
    "\n",
    "# MAKE SURE YOU HAVE THE RIGHT CONTEXTS SELECTED FOR EVERY PROTEIN YOU DO"
   ]
  },
  {
   "cell_type": "code",
   "execution_count": 3,
   "metadata": {
    "collapsed": false
   },
   "outputs": [
    {
     "name": "stdout",
     "output_type": "stream",
     "text": [
      "./s17R.gro\n"
     ]
    },
    {
     "ename": "NameError",
     "evalue": "name 'pmx' is not defined",
     "output_type": "error",
     "traceback": [
      "\u001b[1;31m---------------------------------------------------------------------------\u001b[0m",
      "\u001b[1;31mNameError\u001b[0m                                 Traceback (most recent call last)",
      "\u001b[1;32m<ipython-input-3-ed755eecdc11>\u001b[0m in \u001b[0;36m<module>\u001b[1;34m()\u001b[0m\n\u001b[0;32m      1\u001b[0m \u001b[1;32mfor\u001b[0m \u001b[0mname\u001b[0m \u001b[1;32min\u001b[0m \u001b[0mfiles\u001b[0m\u001b[1;33m[\u001b[0m\u001b[1;33m:\u001b[0m\u001b[1;33m-\u001b[0m\u001b[1;36m2\u001b[0m\u001b[1;33m]\u001b[0m\u001b[1;33m:\u001b[0m\u001b[1;33m\u001b[0m\u001b[0m\n\u001b[0;32m      2\u001b[0m     \u001b[1;32mprint\u001b[0m \u001b[0mname\u001b[0m\u001b[1;33m\u001b[0m\u001b[0m\n\u001b[1;32m----> 3\u001b[1;33m     \u001b[0mm\u001b[0m \u001b[1;33m=\u001b[0m \u001b[0mpmx\u001b[0m\u001b[1;33m.\u001b[0m\u001b[0mModel\u001b[0m\u001b[1;33m(\u001b[0m\u001b[0mname\u001b[0m\u001b[1;33m)\u001b[0m\u001b[1;33m\u001b[0m\u001b[0m\n\u001b[0m\u001b[0;32m      4\u001b[0m     \u001b[0mlig\u001b[0m \u001b[1;33m=\u001b[0m \u001b[0mm\u001b[0m\u001b[1;33m.\u001b[0m\u001b[0mfetch_residues\u001b[0m\u001b[1;33m(\u001b[0m\u001b[1;34m\"XOP\"\u001b[0m\u001b[1;33m)\u001b[0m\u001b[1;33m[\u001b[0m\u001b[1;36m0\u001b[0m\u001b[1;33m]\u001b[0m\u001b[1;33m\u001b[0m\u001b[0m\n\u001b[0;32m      5\u001b[0m     \u001b[0mids\u001b[0m \u001b[1;33m=\u001b[0m \u001b[1;33m[\u001b[0m\u001b[0mstr\u001b[0m\u001b[1;33m(\u001b[0m\u001b[0mi\u001b[0m\u001b[1;33m.\u001b[0m\u001b[0mid\u001b[0m\u001b[1;33m)\u001b[0m \u001b[1;32mfor\u001b[0m \u001b[0mi\u001b[0m \u001b[1;32min\u001b[0m \u001b[0mlig\u001b[0m\u001b[1;33m.\u001b[0m\u001b[0matoms\u001b[0m \u001b[1;32mif\u001b[0m \u001b[1;34m\"H\"\u001b[0m \u001b[1;32mnot\u001b[0m \u001b[1;32min\u001b[0m \u001b[0mi\u001b[0m\u001b[1;33m.\u001b[0m\u001b[0mname\u001b[0m\u001b[1;33m]\u001b[0m \u001b[1;31m# get non hydrogen atoms\u001b[0m\u001b[1;33m\u001b[0m\u001b[0m\n",
      "\u001b[1;31mNameError\u001b[0m: name 'pmx' is not defined"
     ]
    }
   ],
   "source": [
    "for name in files[:-2]:    \n",
    "    print name\n",
    "    m = pmx.Model(name)\n",
    "    lig = m.fetch_residues(\"XOP\")[0]\n",
    "    ids = [str(i.id) for i in lig.atoms if \"H\" not in i.name] # get non hydrogen atoms\n",
    "    ligand = \",\".join(ids)\n",
    "\n",
    "    p = [str(i.id)for i in lig.atoms if \"P\" in i.name][0]\n",
    "    o1 = [str(i.id)for i in lig.atoms if \"O1\" in i.name][0]\n",
    "    \n",
    "\n",
    "    pros = m.fetch_residues(\"TYR\")\n",
    "    \n",
    "    # s17\n",
    "    for pro in pros: # get the tyrosine with the right context\n",
    "        if (m.residues[pro.id-2].resname == \"TRP\" and\n",
    "            m.residues[pro.id].resname == \"GLN\"):\n",
    "            Y37L = pro.atoms   \n",
    "        if (m.residues[pro.id-2].resname == \"ASN\" and\n",
    "            m.residues[pro.id].resname == \"VAL\"):\n",
    "            Y33L = pro.atoms  \n",
    "        if (m.residues[pro.id-2].resname == \"VAL\" and\n",
    "            m.residues[pro.id].resname == \"TRP\"):\n",
    "            Y36L = pro.atoms   \n",
    "        if (m.residues[pro.id-2].resname == \"GLY\" and\n",
    "            m.residues[pro.id].resname == \"ILE\"):\n",
    "            Y53H = pro.atoms \n",
    "        if (m.residues[pro.id-2].resname == \"TYR\" and\n",
    "            m.residues[pro.id].resname == \"TRP\"):\n",
    "            Y35H = pro.atoms  \n",
    "        \n",
    "   \n",
    "\n",
    "    Y37L=[str(i.id)for i in Y37L if \"CB\" in i.name][0]\n",
    "    Y33L=[str(i.id)for i in Y33L if \"CB\" in i.name][0]\n",
    "    Y36L=[str(i.id)for i in Y36L if \"CB\" in i.name][0]\n",
    "    Y53H=[str(i.id)for i in Y53H if \"CB\" in i.name][0]\n",
    "    Y35H=[str(i.id)for i in Y35H if \"CB\" in i.name][0]\n",
    "    \n",
    "    \n",
    "    name = name.split(\"/\")[-1]\n",
    "\n",
    "    f = open(\"driver\"+name[:-4]+\".dat\", 'w')\n",
    "    f.write(\"\\\n",
    "    Y37L: DISTANCE ATOMS={p},{Y37L}\\n\\\n",
    "    Y33L: DISTANCE ATOMS={p},{Y33L}\\n\\\n",
    "    Y36L: DISTANCE ATOMS={p},{Y36L}\\n\\\n",
    "    Y53H: DISTANCE ATOMS={p},{Y53H}\\n\\\n",
    "    Y35H: DISTANCE ATOMS={p},{Y35H}\\n\\\n",
    "    Y37Lang: ANGLE ATOMS={Y37L},{p},{o1}\\n\\\n",
    "    Y33Lang: ANGLE ATOMS={Y33L},{p},{o1}\\n\\\n",
    "    Y36Lang: ANGLE ATOMS={Y36L},{p},{o1}\\n\\\n",
    "    Y53Hang: ANGLE ATOMS={Y53H},{p},{o1}\\n\\\n",
    "    Y35Hang: ANGLE ATOMS={Y35H},{p},{o1}\\n\\\n",
    "    PRINT STRIDE=1 ARG=Y37L,Y37Lang,Y33L,Y33Lang,Y36L,Y36Lang,Y53H,Y53Hang,Y35H,Y35Hang FILE=extra_CV{name}.out\\n\\\n",
    "    \".format(p=p,Y37L=Y37L, Y33L=Y33L, Y36L=Y36L, Y53H=Y53H, Y35H=Y35H, o1=o1,name=name[:-4]))\n",
    "    f.close()"
   ]
  },
  {
   "cell_type": "code",
   "execution_count": 57,
   "metadata": {
    "collapsed": false
   },
   "outputs": [
    {
     "name": "stdout",
     "output_type": "stream",
     "text": [
      "['./s17R.gro', './s17S.gro', './s7R.gro', './s7S.gro']\n"
     ]
    }
   ],
   "source": [
    "os.chdir(\"/home/domain/data/kirill/AB/XOP/md/s\")\n",
    "files = []\n",
    "for a in os.walk('.'):\n",
    "    fz = a[2]\n",
    "    files.append([a[0]+\"/\"+x for x in fz if x.endswith(\".gro\") or x.endswith(\".gro\")])\n",
    "files = [k for z in [f for f in files if len(f) > 0] for k in z]\n",
    "\n",
    "#files = [files[0]] # for test\n",
    "#files = [files[2]] # for test\n",
    "print files"
   ]
  },
  {
   "cell_type": "code",
   "execution_count": 5,
   "metadata": {
    "collapsed": false
   },
   "outputs": [
    {
     "name": "stdout",
     "output_type": "stream",
     "text": [
      "./s7R.gro\n",
      "./s7S.gro\n"
     ]
    }
   ],
   "source": [
    "for name in files[2:4]:    \n",
    "    print name\n",
    "    m = pmx.Model(name)\n",
    "    lig = m.fetch_residues(\"XOP\")[0]\n",
    "    ids = [str(i.id) for i in lig.atoms if \"H\" not in i.name] # get non hydrogen atoms\n",
    "    ligand = \",\".join(ids)\n",
    "\n",
    "    p = [str(i.id)for i in lig.atoms if \"P\" in i.name][0]\n",
    "    o1 = [str(i.id)for i in lig.atoms if \"O1\" in i.name][0]\n",
    "    \n",
    "\n",
    "    pros = m.fetch_residues(\"TYR\")\n",
    "\n",
    "        \n",
    "    # s7\n",
    "    for pro in pros: # get the tyrosine with the right context\n",
    "        if (m.residues[pro.id-2].resname == \"TRP\" and\n",
    "            m.residues[pro.id].resname == \"GLN\"):\n",
    "            Y37L = pro.atoms   \n",
    "        if (m.residues[pro.id-2].resname == \"ASN\" and\n",
    "            m.residues[pro.id].resname == \"VAL\"):\n",
    "            Y33L = pro.atoms  \n",
    "        if (m.residues[pro.id-2].resname == \"VAL\" and\n",
    "            m.residues[pro.id].resname == \"TRP\"):\n",
    "            Y36L = pro.atoms   \n",
    "        if (m.residues[pro.id-2].resname == \"TYR\" and\n",
    "            m.residues[pro.id].resname == \"MET\"):\n",
    "            Y35H = pro.atoms  \n",
    "\n",
    "    Y37L=[str(i.id)for i in Y37L if \"CB\" in i.name][0]\n",
    "    Y33L=[str(i.id)for i in Y33L if \"CB\" in i.name][0]\n",
    "    Y36L=[str(i.id)for i in Y36L if \"CB\" in i.name][0]\n",
    "\n",
    "    Y35H=[str(i.id)for i in Y35H if \"CB\" in i.name][0]\n",
    "    \n",
    "    \n",
    "    name = name.split(\"/\")[-1]\n",
    "\n",
    "    f = open(\"driver\"+name[:-4]+\".dat\", 'w')\n",
    "    f.write(\"\\\n",
    "    Y37L: DISTANCE ATOMS={p},{Y37L}\\n\\\n",
    "    Y33L: DISTANCE ATOMS={p},{Y33L}\\n\\\n",
    "    Y36L: DISTANCE ATOMS={p},{Y36L}\\n\\\n",
    "    Y35H: DISTANCE ATOMS={p},{Y35H}\\n\\\n",
    "    Y37Lang: ANGLE ATOMS={Y37L},{p},{o1}\\n\\\n",
    "    Y33Lang: ANGLE ATOMS={Y33L},{p},{o1}\\n\\\n",
    "    Y36Lang: ANGLE ATOMS={Y36L},{p},{o1}\\n\\\n",
    "    Y35Hang: ANGLE ATOMS={Y35H},{p},{o1}\\n\\\n",
    "    PRINT STRIDE=1 ARG=Y37L,Y37Lang,Y33L,Y33Lang,Y36L,Y36Lang,Y35H,Y35Hang FILE=extra_CV{name}.out\\n\\\n",
    "    \".format(p=p,Y37L=Y37L, Y33L=Y33L, Y36L=Y36L, Y35H=Y35H, o1=o1,name=name[:-4]))\n",
    "    f.close()"
   ]
  },
  {
   "cell_type": "code",
   "execution_count": 97,
   "metadata": {
    "collapsed": false
   },
   "outputs": [
    {
     "name": "stdout",
     "output_type": "stream",
     "text": [
      "['./R/a5R.gro', './S/a5S.gro']\n"
     ]
    }
   ],
   "source": [
    "os.chdir(\"/home/domain/data/kirill/AB/XOP/md/a5/\")\n",
    "files = []\n",
    "for a in os.walk('.'):\n",
    "    fz = a[2]\n",
    "    files.append([a[0]+\"/\"+x for x in fz if x.endswith(\"S.gro\") or x.endswith(\"R.gro\")])\n",
    "files = [k for z in [f for f in files if len(f) > 0] for k in z]\n",
    "\n",
    "#files = [files[0]] # for test\n",
    "#files = [files[2]] # for test\n",
    "print files"
   ]
  },
  {
   "cell_type": "code",
   "execution_count": 81,
   "metadata": {
    "collapsed": false
   },
   "outputs": [
    {
     "name": "stdout",
     "output_type": "stream",
     "text": [
      "./R/a5R.gro\n",
      "found Y35H\n",
      "found Y51H\n",
      "found Y59H\n",
      "found Y33L\n",
      "found Y37L\n",
      "./S/a5S.gro\n",
      "found Y35H\n",
      "found Y51H\n",
      "found Y59H\n",
      "found Y33L\n",
      "found Y37L\n"
     ]
    }
   ],
   "source": [
    "for name in files[:]:    \n",
    "    print name\n",
    "    m = pmx.Model(name)\n",
    "    lig = m.fetch_residues(\"XOP\")[0]\n",
    "    ids = [str(i.id) for i in lig.atoms if \"H\" not in i.name] # get non hydrogen atoms\n",
    "    ligand = \",\".join(ids)\n",
    "\n",
    "    p = [str(i.id)for i in lig.atoms if \"P\" in i.name][0]\n",
    "    o1 = [str(i.id)for i in lig.atoms if \"O1\" in i.name][0]\n",
    "    \n",
    "\n",
    "    pros = m.fetch_residues(\"TYR\")\n",
    "    \n",
    "    # a5\n",
    "    for pro in pros: # get the tyrosine with the right context\n",
    "        if (m.residues[pro.id-2].resname == \"TRP\" and\n",
    "            m.residues[pro.id].resname == \"GLN\"):\n",
    "            print \"found Y37L\"\n",
    "            Y37L = pro.atoms   \n",
    "        if (m.residues[pro.id-2].resname == \"ASN\" and\n",
    "            m.residues[pro.id].resname == \"VAL\"):\n",
    "            print \"found Y33L\"\n",
    "            Y33L = pro.atoms  \n",
    "        if (m.residues[pro.id-2].resname == \"THR\" and\n",
    "            m.residues[pro.id].resname == \"TYR\"):\n",
    "            print \"found Y59H\"\n",
    "            Y59H = pro.atoms   \n",
    "        if (m.residues[pro.id-2].resname == \"GLY\" and\n",
    "            m.residues[pro.id].resname == \"ILE\"):\n",
    "            print \"found Y51H\"\n",
    "            Y51H = pro.atoms \n",
    "        if (m.residues[pro.id-2].resname == \"TYR\" and\n",
    "            m.residues[pro.id].resname == \"TRP\"):\n",
    "            print \"found Y35H\"\n",
    "            Y35H = pro.atoms  \n",
    "        \n",
    "\n",
    "    Y37L=[str(i.id) for i in Y37L if \"CB\" in i.name][0]\n",
    "    Y33L=[str(i.id) for i in Y33L if \"CB\" in i.name][0]\n",
    "    Y59H=[str(i.id) for i in Y59H if \"CB\" in i.name][0]\n",
    "    Y51H=[str(i.id) for i in Y51H if \"CB\" in i.name][0]\n",
    "    Y35H=[str(i.id) for i in Y35H if \"CB\" in i.name][0]\n",
    "    \n",
    "    \n",
    "    name = name.split(\"/\")[-1]\n",
    "\n",
    "    f = open(\"driver\"+name[:-4]+\".dat\", 'w')\n",
    "    f.write(\"\\\n",
    "    Y37L: DISTANCE ATOMS={p},{Y37L}\\n\\\n",
    "    Y33L: DISTANCE ATOMS={p},{Y33L}\\n\\\n",
    "    Y59H: DISTANCE ATOMS={p},{Y59H}\\n\\\n",
    "    Y51H: DISTANCE ATOMS={p},{Y51H}\\n\\\n",
    "    Y35H: DISTANCE ATOMS={p},{Y35H}\\n\\\n",
    "    Y37Lang: ANGLE ATOMS={Y37L},{p},{o1}\\n\\\n",
    "    Y33Lang: ANGLE ATOMS={Y33L},{p},{o1}\\n\\\n",
    "    Y59Hang: ANGLE ATOMS={Y59H},{p},{o1}\\n\\\n",
    "    Y51Hang: ANGLE ATOMS={Y51H},{p},{o1}\\n\\\n",
    "    Y35Hang: ANGLE ATOMS={Y35H},{p},{o1}\\n\\\n",
    "    PRINT STRIDE=1 ARG=Y37L,Y37Lang,Y33L,Y33Lang,Y59H,Y59Hang,Y51H,Y51Hang,Y35H,Y35Hang FILE=extra_CV{name}.out\\n\\\n",
    "    \".format(p=p,Y37L=Y37L, Y33L=Y33L, Y59H=Y59H, Y51H=Y51H, Y35H=Y35H, o1=o1, name=name[:-4]))\n",
    "    f.close()"
   ]
  },
  {
   "cell_type": "code",
   "execution_count": 74,
   "metadata": {
    "collapsed": false
   },
   "outputs": [
    {
     "name": "stdout",
     "output_type": "stream",
     "text": [
      "[<pmx.atom.Atom instance at 0x8919bd8>, <pmx.atom.Atom instance at 0x8919e60>, <pmx.atom.Atom instance at 0x891a128>, <pmx.atom.Atom instance at 0x891a3b0>, <pmx.atom.Atom instance at 0x891a638>, <pmx.atom.Atom instance at 0x891a8c0>, <pmx.atom.Atom instance at 0x891ab48>, <pmx.atom.Atom instance at 0x891add0>, <pmx.atom.Atom instance at 0x891b098>, <pmx.atom.Atom instance at 0x891b320>, <pmx.atom.Atom instance at 0x891b5a8>, <pmx.atom.Atom instance at 0x891b830>, <pmx.atom.Atom instance at 0x891bab8>, <pmx.atom.Atom instance at 0x891bd40>, <pmx.atom.Atom instance at 0x891bfc8>, <pmx.atom.Atom instance at 0x891c290>, <pmx.atom.Atom instance at 0x891c518>, <pmx.atom.Atom instance at 0x891c7a0>, <pmx.atom.Atom instance at 0x891ca28>, <pmx.atom.Atom instance at 0x891ccb0>, <pmx.atom.Atom instance at 0x891cf38>]\n",
      "3685\n",
      "3\n"
     ]
    }
   ],
   "source": [
    "print pro.atoms\n",
    "print Y37L\n",
    "i=Y37L[0]\n",
    "print i"
   ]
  },
  {
   "cell_type": "code",
   "execution_count": 83,
   "metadata": {
    "collapsed": false
   },
   "outputs": [
    {
     "name": "stdout",
     "output_type": "stream",
     "text": [
      "['./R/a17R.gro', './S/a17S.gro']\n"
     ]
    }
   ],
   "source": [
    "os.chdir(\"/home/domain/data/kirill/AB/XOP/md/a17\")\n",
    "files = []\n",
    "for a in os.walk('.'):\n",
    "    fz = a[2]\n",
    "    files.append([a[0]+\"/\"+x for x in fz if x.endswith(\"S.gro\") or x.endswith(\"R.gro\")])\n",
    "files = [k for z in [f for f in files if len(f) > 0] for k in z]\n",
    "\n",
    "#files = [files[0]] # for test\n",
    "#files = [files[2]] # for test\n",
    "print files"
   ]
  },
  {
   "cell_type": "code",
   "execution_count": 84,
   "metadata": {
    "collapsed": false
   },
   "outputs": [
    {
     "name": "stdout",
     "output_type": "stream",
     "text": [
      "./R/a17R.gro\n",
      "./S/a17S.gro\n"
     ]
    }
   ],
   "source": [
    "for name in files[:]:    \n",
    "    print name\n",
    "    m = pmx.Model(name)\n",
    "    lig = m.fetch_residues(\"XOP\")[0]\n",
    "    ids = [str(i.id) for i in lig.atoms if \"H\" not in i.name] # get non hydrogen atoms\n",
    "    ligand = \",\".join(ids)\n",
    "\n",
    "    p = [str(i.id)for i in lig.atoms if \"P\" in i.name][0]\n",
    "    o1 = [str(i.id)for i in lig.atoms if \"O1\" in i.name][0]\n",
    "    \n",
    "\n",
    "    pros = m.fetch_residues(\"TYR\")\n",
    "    \n",
    "    # a17\n",
    "    for pro in pros: # get the tyrosine with the right context\n",
    "        if (m.residues[pro.id-2].resname == \"TRP\" and\n",
    "            m.residues[pro.id].resname == \"GLN\"):\n",
    "            Y37L = pro.atoms   \n",
    "        if (m.residues[pro.id-2].resname == \"ASN\" and\n",
    "            m.residues[pro.id].resname == \"VAL\"):\n",
    "            Y33L = pro.atoms  \n",
    "        if (m.residues[pro.id-2].resname == \"THR\" and\n",
    "            m.residues[pro.id].resname == \"TYR\"):\n",
    "            Y58H = pro.atoms   \n",
    "        if (m.residues[pro.id-2].resname == \"ILE\" and\n",
    "            m.residues[pro.id].resname == \"HIS\"):\n",
    "            Y52H = pro.atoms \n",
    "        if (m.residues[pro.id-2].resname == \"TYR\" and\n",
    "            m.residues[pro.id].resname == \"TRP\"):\n",
    "            Y33H = pro.atoms  \n",
    "        if (m.residues[pro.id-2].resname == \"GLY\" and\n",
    "            m.residues[pro.id].resname == \"TYR\"):\n",
    "            Y32H = pro.atoms  \n",
    "\n",
    "    Y37L=[str(i.id)for i in Y37L if \"CB\" in i.name][0]\n",
    "    Y33L=[str(i.id)for i in Y33L if \"CB\" in i.name][0]\n",
    "    Y58H=[str(i.id)for i in Y58H if \"CB\" in i.name][0]\n",
    "    Y52H=[str(i.id)for i in Y52H if \"CB\" in i.name][0]\n",
    "    Y33H=[str(i.id)for i in Y33H if \"CB\" in i.name][0]\n",
    "    Y32H=[str(i.id)for i in Y32H if \"CB\" in i.name][0]\n",
    "    \n",
    "    name = name.split(\"/\")[-1]\n",
    "\n",
    "    f = open(\"driver\"+name[:-4]+\".dat\", 'w')\n",
    "    f.write(\"\\\n",
    "    Y37L: DISTANCE ATOMS={p},{Y37L}\\n\\\n",
    "    Y33L: DISTANCE ATOMS={p},{Y33L}\\n\\\n",
    "    Y58H: DISTANCE ATOMS={p},{Y58H}\\n\\\n",
    "    Y52H: DISTANCE ATOMS={p},{Y52H}\\n\\\n",
    "    Y33H: DISTANCE ATOMS={p},{Y33H}\\n\\\n",
    "    Y32H: DISTANCE ATOMS={p},{Y32H}\\n\\\n",
    "    Y37Lang: ANGLE ATOMS={Y37L},{p},{o1}\\n\\\n",
    "    Y33Lang: ANGLE ATOMS={Y33L},{p},{o1}\\n\\\n",
    "    Y58Hang: ANGLE ATOMS={Y58H},{p},{o1}\\n\\\n",
    "    Y52Hang: ANGLE ATOMS={Y52H},{p},{o1}\\n\\\n",
    "    Y33Hang: ANGLE ATOMS={Y33H},{p},{o1}\\n\\\n",
    "    Y32Hang: ANGLE ATOMS={Y32H},{p},{o1}\\n\\\n",
    "    PRINT STRIDE=1 ARG=Y37L,Y37Lang,Y33L,Y33Lang,Y58H,Y58Hang,Y52H,Y52Hang,Y33H,Y33Hang,Y32H,Y32Hang FILE=extra_CV{name}.out\\n\\\n",
    "    \".format(p=p,Y37L=Y37L, Y33L=Y33L, Y58H=Y59H, Y52H=Y52H, Y33H=Y33H, Y32H=Y32H, o1=o1,name=name[:-4]))\n",
    "    f.close()"
   ]
  },
  {
   "cell_type": "code",
   "execution_count": null,
   "metadata": {
    "collapsed": true
   },
   "outputs": [],
   "source": []
  },
  {
   "cell_type": "code",
   "execution_count": 87,
   "metadata": {
    "collapsed": false
   },
   "outputs": [
    {
     "name": "stdout",
     "output_type": "stream",
     "text": [
      "['./a1R.gro', './a1S.gro']\n"
     ]
    }
   ],
   "source": [
    "os.chdir(\"/home/domain/data/kirill/AB/XOP/md/new/newABs/a1\")\n",
    "files = []\n",
    "for a in os.walk('.'):\n",
    "    fz = a[2]\n",
    "    files.append([a[0]+\"/\"+x for x in fz if x.endswith(\"a1R.gro\") or x.endswith(\"a1S.gro\")])\n",
    "files = [k for z in [f for f in files if len(f) > 0] for k in z]\n",
    "\n",
    "#files = [files[0]] # for test\n",
    "#files = [files[2]] # for test\n",
    "print files"
   ]
  },
  {
   "cell_type": "code",
   "execution_count": 91,
   "metadata": {
    "collapsed": false
   },
   "outputs": [
    {
     "name": "stdout",
     "output_type": "stream",
     "text": [
      "./a1R.gro\n",
      "./a1S.gro\n"
     ]
    }
   ],
   "source": [
    "for name in files[:]:    \n",
    "    print name\n",
    "    m = pmx.Model(name)\n",
    "    lig = m.fetch_residues(\"XOP\")[0]\n",
    "    ids = [str(i.id) for i in lig.atoms if \"H\" not in i.name] # get non hydrogen atoms\n",
    "    ligand = \",\".join(ids)\n",
    "\n",
    "    p = [str(i.id)for i in lig.atoms if \"P\" in i.name][0]\n",
    "    o1 = [str(i.id)for i in lig.atoms if \"O1\" in i.name][0]\n",
    "    \n",
    "\n",
    "    pros = m.fetch_residues(\"TYR\")\n",
    "    \n",
    "    # a1\n",
    "    for pro in pros: # get the tyrosine with the right context\n",
    "        if (m.residues[pro.id-2].resname == \"TRP\" and\n",
    "            m.residues[pro.id].resname == \"GLN\"):\n",
    "            Y37L = pro.atoms   \n",
    "        if (m.residues[pro.id-2].resname == \"VAL\" and\n",
    "            m.residues[pro.id].resname == \"TRP\"):\n",
    "            Y35L = pro.atoms \n",
    "        if (m.residues[pro.id-2].resname == \"ASN\" and\n",
    "            m.residues[pro.id].resname == \"VAL\"):\n",
    "            Y33L = pro.atoms  \n",
    "        if (m.residues[pro.id-2].resname == \"GLY\" and\n",
    "            m.residues[pro.id].resname == \"ILE\"):\n",
    "            Y52H = pro.atoms \n",
    "        if (m.residues[pro.id-2].resname == \"TYR\" and\n",
    "            m.residues[pro.id].resname == \"TRP\"):\n",
    "            Y35H = pro.atoms  \n",
    "        if (m.residues[pro.id-2].resname == \"ILE\" and\n",
    "            m.residues[pro.id].resname == \"TYR\"):\n",
    "            Y54H = pro.atoms        \n",
    "\n",
    "    Y37L=[str(i.id)for i in Y37L if \"CB\" in i.name][0]\n",
    "    Y35L=[str(i.id)for i in Y35L if \"CB\" in i.name][0]\n",
    "    Y33L=[str(i.id)for i in Y33L if \"CB\" in i.name][0]\n",
    "    Y54H=[str(i.id)for i in Y54H if \"CB\" in i.name][0]\n",
    "    Y52H=[str(i.id)for i in Y52H if \"CB\" in i.name][0]\n",
    "    Y35H=[str(i.id)for i in Y35H if \"CB\" in i.name][0]\n",
    "    \n",
    "    name = name.split(\"/\")[-1]\n",
    "\n",
    "    f = open(\"driver\"+name[:-4]+\".dat\", 'w')\n",
    "    f.write(\"\\\n",
    "    Y37L: DISTANCE ATOMS={p},{Y37L}\\n\\\n",
    "    Y33L: DISTANCE ATOMS={p},{Y33L}\\n\\\n",
    "    Y35L: DISTANCE ATOMS={p},{Y35L}\\n\\\n",
    "    Y54H: DISTANCE ATOMS={p},{Y54H}\\n\\\n",
    "    Y52H: DISTANCE ATOMS={p},{Y52H}\\n\\\n",
    "    Y35H: DISTANCE ATOMS={p},{Y35H}\\n\\\n",
    "    Y37Lang: ANGLE ATOMS={Y37L},{p},{o1}\\n\\\n",
    "    Y35Lang: ANGLE ATOMS={Y35L},{p},{o1}\\n\\\n",
    "    Y33Lang: ANGLE ATOMS={Y33L},{p},{o1}\\n\\\n",
    "    Y54Hang: ANGLE ATOMS={Y54H},{p},{o1}\\n\\\n",
    "    Y52Hang: ANGLE ATOMS={Y52H},{p},{o1}\\n\\\n",
    "    Y35Hang: ANGLE ATOMS={Y35H},{p},{o1}\\n\\\n",
    "    PRINT STRIDE=1 ARG=Y37L,Y37Lang,Y35L,Y35Lang,Y33L,Y33Lang,Y52H,Y52Hang,Y35H,Y35Hang,Y54H,Y54Hang, FILE=extra_CV{name}.out\\n\\\n",
    "    \".format(p=p,Y37L=Y37L, Y33L=Y33L, Y35L=Y35L, Y52H=Y52H, Y35H=Y35H,Y54H=Y54H, o1=o1,name=name[:-4]))\n",
    "    f.close()"
   ]
  },
  {
   "cell_type": "code",
   "execution_count": 92,
   "metadata": {
    "collapsed": false
   },
   "outputs": [
    {
     "name": "stdout",
     "output_type": "stream",
     "text": [
      "['./a21R.gro', './a21S.gro']\n"
     ]
    }
   ],
   "source": [
    "os.chdir(\"/home/domain/data/kirill/AB/XOP/md/new/newABs/a21\")\n",
    "files = []\n",
    "for a in os.walk('.'):\n",
    "    fz = a[2]\n",
    "    files.append([a[0]+\"/\"+x for x in fz if x.endswith(\"a21R.gro\") or x.endswith(\"a21S.gro\")])\n",
    "files = [k for z in [f for f in files if len(f) > 0] for k in z]\n",
    "\n",
    "#files = [files[0]] # for test\n",
    "#files = [files[2]] # for test\n",
    "print files"
   ]
  },
  {
   "cell_type": "code",
   "execution_count": 93,
   "metadata": {
    "collapsed": false
   },
   "outputs": [
    {
     "name": "stdout",
     "output_type": "stream",
     "text": [
      "./a21R.gro\n",
      "./a21S.gro\n"
     ]
    }
   ],
   "source": [
    "for name in files[:]:    \n",
    "    print name\n",
    "    m = pmx.Model(name)\n",
    "    lig = m.fetch_residues(\"XOP\")[0]\n",
    "    ids = [str(i.id) for i in lig.atoms if \"H\" not in i.name] # get non hydrogen atoms\n",
    "    ligand = \",\".join(ids)\n",
    "\n",
    "    p = [str(i.id)for i in lig.atoms if \"P\" in i.name][0]\n",
    "    o1 = [str(i.id)for i in lig.atoms if \"O1\" in i.name][0]\n",
    "    \n",
    "\n",
    "    pros = m.fetch_residues(\"TYR\")\n",
    "    \n",
    "    # a21\n",
    "    for pro in pros: # get the tyrosine with the right context\n",
    "        if (m.residues[pro.id-2].resname == \"TRP\" and\n",
    "            m.residues[pro.id].resname == \"GLN\"):\n",
    "            Y37L = pro.atoms   \n",
    "        if (m.residues[pro.id-2].resname == \"VAL\" and\n",
    "            m.residues[pro.id].resname == \"TRP\"):\n",
    "            Y35L = pro.atoms \n",
    "        if (m.residues[pro.id-2].resname == \"ASN\" and\n",
    "            m.residues[pro.id].resname == \"VAL\"):\n",
    "            Y33L = pro.atoms  \n",
    "\n",
    "        if (m.residues[pro.id-2].resname == \"TYR\" and\n",
    "            m.residues[pro.id].resname == \"MET\"):\n",
    "            Y33H = pro.atoms  \n",
    "      \n",
    "\n",
    "    Y37L=[str(i.id)for i in Y37L if \"CB\" in i.name][0]\n",
    "    Y35L=[str(i.id)for i in Y35L if \"CB\" in i.name][0]\n",
    "    Y33L=[str(i.id)for i in Y33L if \"CB\" in i.name][0]\n",
    "    Y33H=[str(i.id)for i in Y33H if \"CB\" in i.name][0]\n",
    "    \n",
    "    name = name.split(\"/\")[-1]\n",
    "\n",
    "    f = open(\"driver\"+name[:-4]+\".dat\", 'w')\n",
    "    f.write(\"\\\n",
    "    Y37L: DISTANCE ATOMS={p},{Y37L}\\n\\\n",
    "    Y33L: DISTANCE ATOMS={p},{Y33L}\\n\\\n",
    "    Y35L: DISTANCE ATOMS={p},{Y35L}\\n\\\n",
    "    Y33H: DISTANCE ATOMS={p},{Y33H}\\n\\\n",
    "    Y37Lang: ANGLE ATOMS={Y37L},{p},{o1}\\n\\\n",
    "    Y35Lang: ANGLE ATOMS={Y35L},{p},{o1}\\n\\\n",
    "    Y33Lang: ANGLE ATOMS={Y33L},{p},{o1}\\n\\\n",
    "    Y33Hang: ANGLE ATOMS={Y33H},{p},{o1}\\n\\\n",
    "    PRINT STRIDE=1 ARG=Y37L,Y37Lang,Y35L,Y35Lang,Y33L,Y33Lang,Y33H,Y33Hang, FILE=extra_CV{name}.out\\n\\\n",
    "    \".format(p=p, Y37L=Y37L, Y33L=Y33L, Y35L=Y35L, Y33H=Y33H, o1=o1,name=name[:-4]))\n",
    "    f.close()"
   ]
  },
  {
   "cell_type": "code",
   "execution_count": 94,
   "metadata": {
    "collapsed": false
   },
   "outputs": [
    {
     "name": "stdout",
     "output_type": "stream",
     "text": [
      "['./a7S.gro', './a7R.gro']\n"
     ]
    }
   ],
   "source": [
    "os.chdir(\"/home/domain/data/kirill/AB/XOP/md/new/newABs/a7\")\n",
    "files = []\n",
    "for a in os.walk('.'):\n",
    "    fz = a[2]\n",
    "    files.append([a[0]+\"/\"+x for x in fz if x.endswith(\"a7R.gro\") or x.endswith(\"a7S.gro\")])\n",
    "files = [k for z in [f for f in files if len(f) > 0] for k in z]\n",
    "\n",
    "#files = [files[0]] # for test\n",
    "#files = [files[2]] # for test\n",
    "print files"
   ]
  },
  {
   "cell_type": "code",
   "execution_count": 95,
   "metadata": {
    "collapsed": false
   },
   "outputs": [
    {
     "name": "stdout",
     "output_type": "stream",
     "text": [
      "./a7S.gro\n",
      "./a7R.gro\n"
     ]
    }
   ],
   "source": [
    "for name in files[:]:    \n",
    "    print name\n",
    "    m = pmx.Model(name)\n",
    "    lig = m.fetch_residues(\"XOP\")[0]\n",
    "    ids = [str(i.id) for i in lig.atoms if \"H\" not in i.name] # get non hydrogen atoms\n",
    "    ligand = \",\".join(ids)\n",
    "\n",
    "    p = [str(i.id)for i in lig.atoms if \"P\" in i.name][0]\n",
    "    o1 = [str(i.id)for i in lig.atoms if \"O1\" in i.name][0]\n",
    "    \n",
    "\n",
    "    pros = m.fetch_residues(\"TYR\")\n",
    "    \n",
    "    # a7\n",
    "    for pro in pros: # get the tyrosine with the right context\n",
    "        if (m.residues[pro.id-2].resname == \"TRP\" and\n",
    "            m.residues[pro.id].resname == \"GLN\"):\n",
    "            Y37L = pro.atoms   \n",
    "        if (m.residues[pro.id-2].resname == \"VAL\" and\n",
    "            m.residues[pro.id].resname == \"TRP\"):\n",
    "            Y35L = pro.atoms \n",
    "        if (m.residues[pro.id-2].resname == \"ASN\" and\n",
    "            m.residues[pro.id].resname == \"VAL\"):\n",
    "            Y33L = pro.atoms  \n",
    "        if (m.residues[pro.id-2].resname == \"GLY\" and\n",
    "            m.residues[pro.id].resname == \"ILE\"):\n",
    "            Y52H = pro.atoms \n",
    "        if (m.residues[pro.id-2].resname == \"TYR\" and\n",
    "            m.residues[pro.id].resname == \"TRP\"):\n",
    "            Y35H = pro.atoms  \n",
    "        if (m.residues[pro.id-2].resname == \"ILE\" and\n",
    "            m.residues[pro.id].resname == \"TYR\"):\n",
    "            Y54H = pro.atoms        \n",
    "\n",
    "    Y37L=[str(i.id)for i in Y37L if \"CB\" in i.name][0]\n",
    "    Y35L=[str(i.id)for i in Y35L if \"CB\" in i.name][0]\n",
    "    Y33L=[str(i.id)for i in Y33L if \"CB\" in i.name][0]\n",
    "    Y54H=[str(i.id)for i in Y54H if \"CB\" in i.name][0]\n",
    "    Y52H=[str(i.id)for i in Y52H if \"CB\" in i.name][0]\n",
    "    Y35H=[str(i.id)for i in Y35H if \"CB\" in i.name][0]\n",
    "    \n",
    "    name = name.split(\"/\")[-1]\n",
    "\n",
    "    f = open(\"driver\"+name[:-4]+\".dat\", 'w')\n",
    "    f.write(\"\\\n",
    "    Y37L: DISTANCE ATOMS={p},{Y37L}\\n\\\n",
    "    Y33L: DISTANCE ATOMS={p},{Y33L}\\n\\\n",
    "    Y35L: DISTANCE ATOMS={p},{Y35L}\\n\\\n",
    "    Y54H: DISTANCE ATOMS={p},{Y54H}\\n\\\n",
    "    Y52H: DISTANCE ATOMS={p},{Y52H}\\n\\\n",
    "    Y35H: DISTANCE ATOMS={p},{Y35H}\\n\\\n",
    "    Y37Lang: ANGLE ATOMS={Y37L},{p},{o1}\\n\\\n",
    "    Y35Lang: ANGLE ATOMS={Y35L},{p},{o1}\\n\\\n",
    "    Y33Lang: ANGLE ATOMS={Y33L},{p},{o1}\\n\\\n",
    "    Y54Hang: ANGLE ATOMS={Y54H},{p},{o1}\\n\\\n",
    "    Y52Hang: ANGLE ATOMS={Y52H},{p},{o1}\\n\\\n",
    "    Y35Hang: ANGLE ATOMS={Y35H},{p},{o1}\\n\\\n",
    "    PRINT STRIDE=1 ARG=Y37L,Y37Lang,Y35L,Y35Lang,Y33L,Y33Lang,Y52H,Y52Hang,Y35H,Y35Hang,Y54H,Y54Hang, FILE=extra_CV{name}.out\\n\\\n",
    "    \".format(p=p,Y37L=Y37L, Y33L=Y33L, Y35L=Y35L, Y52H=Y52H, Y35H=Y35H,Y54H=Y54H, o1=o1,name=name[:-4]))\n",
    "    f.close()"
   ]
  },
  {
   "cell_type": "code",
   "execution_count": 98,
   "metadata": {
    "collapsed": false
   },
   "outputs": [
    {
     "name": "stdout",
     "output_type": "stream",
     "text": [
      "['./a43R.gro', './a43S.gro']\n"
     ]
    }
   ],
   "source": [
    "os.chdir(\"/home/domain/data/kirill/AB/XOP/md/new/newABs/a43\")\n",
    "files = []\n",
    "for a in os.walk('.'):\n",
    "    fz = a[2]\n",
    "    files.append([a[0]+\"/\"+x for x in fz if x.endswith(\"a43R.gro\") or x.endswith(\"a43S.gro\")])\n",
    "files = [k for z in [f for f in files if len(f) > 0] for k in z]\n",
    "\n",
    "#files = [files[0]] # for test\n",
    "#files = [files[2]] # for test\n",
    "print files"
   ]
  },
  {
   "cell_type": "code",
   "execution_count": 99,
   "metadata": {
    "collapsed": false
   },
   "outputs": [
    {
     "name": "stdout",
     "output_type": "stream",
     "text": [
      "./a43R.gro\n",
      "./a43S.gro\n"
     ]
    }
   ],
   "source": [
    "for name in files[:]:    \n",
    "    print name\n",
    "    m = pmx.Model(name)\n",
    "    lig = m.fetch_residues(\"XOP\")[0]\n",
    "    ids = [str(i.id) for i in lig.atoms if \"H\" not in i.name] # get non hydrogen atoms\n",
    "    ligand = \",\".join(ids)\n",
    "\n",
    "    p = [str(i.id)for i in lig.atoms if \"P\" in i.name][0]\n",
    "    o1 = [str(i.id)for i in lig.atoms if \"O1\" in i.name][0]\n",
    "    \n",
    "\n",
    "    pros = m.fetch_residues(\"TYR\")\n",
    "    \n",
    "    # a43\n",
    "    for pro in pros: # get the tyrosine with the right context\n",
    "        if (m.residues[pro.id-2].resname == \"TRP\" and\n",
    "            m.residues[pro.id].resname == \"GLN\"):\n",
    "            Y37L = pro.atoms   \n",
    "        if (m.residues[pro.id-2].resname == \"VAL\" and\n",
    "            m.residues[pro.id].resname == \"TRP\"):\n",
    "            Y35L = pro.atoms \n",
    "        if (m.residues[pro.id-2].resname == \"ASN\" and\n",
    "            m.residues[pro.id].resname == \"VAL\"):\n",
    "            Y33L = pro.atoms  \n",
    "        if (m.residues[pro.id-2].resname == \"GLY\" and\n",
    "            m.residues[pro.id].resname == \"ILE\"):\n",
    "            Y52H = pro.atoms \n",
    "        if (m.residues[pro.id-2].resname == \"TYR\" and\n",
    "            m.residues[pro.id].resname == \"TRP\"):\n",
    "            Y35H = pro.atoms  \n",
    "        if (m.residues[pro.id-2].resname == \"ILE\" and\n",
    "            m.residues[pro.id].resname == \"TYR\"):\n",
    "            Y54H = pro.atoms        \n",
    "\n",
    "    Y37L=[str(i.id)for i in Y37L if \"CB\" in i.name][0]\n",
    "    Y35L=[str(i.id)for i in Y35L if \"CB\" in i.name][0]\n",
    "    Y33L=[str(i.id)for i in Y33L if \"CB\" in i.name][0]\n",
    "    Y54H=[str(i.id)for i in Y54H if \"CB\" in i.name][0]\n",
    "    Y52H=[str(i.id)for i in Y52H if \"CB\" in i.name][0]\n",
    "    Y35H=[str(i.id)for i in Y35H if \"CB\" in i.name][0]\n",
    "    \n",
    "    name = name.split(\"/\")[-1]\n",
    "\n",
    "    f = open(\"driver\"+name[:-4]+\".dat\", 'w')\n",
    "    f.write(\"\\\n",
    "    Y37L: DISTANCE ATOMS={p},{Y37L}\\n\\\n",
    "    Y33L: DISTANCE ATOMS={p},{Y33L}\\n\\\n",
    "    Y35L: DISTANCE ATOMS={p},{Y35L}\\n\\\n",
    "    Y54H: DISTANCE ATOMS={p},{Y54H}\\n\\\n",
    "    Y52H: DISTANCE ATOMS={p},{Y52H}\\n\\\n",
    "    Y35H: DISTANCE ATOMS={p},{Y35H}\\n\\\n",
    "    Y37Lang: ANGLE ATOMS={Y37L},{p},{o1}\\n\\\n",
    "    Y35Lang: ANGLE ATOMS={Y35L},{p},{o1}\\n\\\n",
    "    Y33Lang: ANGLE ATOMS={Y33L},{p},{o1}\\n\\\n",
    "    Y54Hang: ANGLE ATOMS={Y54H},{p},{o1}\\n\\\n",
    "    Y52Hang: ANGLE ATOMS={Y52H},{p},{o1}\\n\\\n",
    "    Y35Hang: ANGLE ATOMS={Y35H},{p},{o1}\\n\\\n",
    "    PRINT STRIDE=1 ARG=Y37L,Y37Lang,Y35L,Y35Lang,Y33L,Y33Lang,Y52H,Y52Hang,Y35H,Y35Hang,Y54H,Y54Hang, FILE=extra_CV{name}.out\\n\\\n",
    "    \".format(p=p,Y37L=Y37L, Y33L=Y33L, Y35L=Y35L, Y52H=Y52H, Y35H=Y35H,Y54H=Y54H, o1=o1,name=name[:-4]))\n",
    "    f.close()"
   ]
  },
  {
   "cell_type": "code",
   "execution_count": 100,
   "metadata": {
    "collapsed": false
   },
   "outputs": [
    {
     "name": "stdout",
     "output_type": "stream",
     "text": [
      "['./a46R.gro', './a46S.gro']\n"
     ]
    }
   ],
   "source": [
    "os.chdir(\"/home/domain/data/kirill/AB/XOP/md/new/newABs/a46\")\n",
    "files = []\n",
    "for a in os.walk('.'):\n",
    "    fz = a[2]\n",
    "    files.append([a[0]+\"/\"+x for x in fz if x.endswith(\"a46R.gro\") or x.endswith(\"a46S.gro\")])\n",
    "files = [k for z in [f for f in files if len(f) > 0] for k in z]\n",
    "\n",
    "#files = [files[0]] # for test\n",
    "#files = [files[2]] # for test\n",
    "print files"
   ]
  },
  {
   "cell_type": "code",
   "execution_count": 102,
   "metadata": {
    "collapsed": false
   },
   "outputs": [
    {
     "name": "stdout",
     "output_type": "stream",
     "text": [
      "./a46R.gro\n",
      "./a46S.gro\n"
     ]
    }
   ],
   "source": [
    "for name in files[:]:    \n",
    "    print name\n",
    "    m = pmx.Model(name)\n",
    "    lig = m.fetch_residues(\"XOP\")[0]\n",
    "    ids = [str(i.id) for i in lig.atoms if \"H\" not in i.name] # get non hydrogen atoms\n",
    "    ligand = \",\".join(ids)\n",
    "\n",
    "    p = [str(i.id)for i in lig.atoms if \"P\" in i.name][0]\n",
    "    o1 = [str(i.id)for i in lig.atoms if \"O1\" in i.name][0]\n",
    "    \n",
    "\n",
    "    pros = m.fetch_residues(\"TYR\")\n",
    "    \n",
    "    # a46\n",
    "    for pro in pros: # get the tyrosine with the right context\n",
    "        if (m.residues[pro.id-2].resname == \"TRP\" and\n",
    "            m.residues[pro.id].resname == \"GLN\"):\n",
    "            Y37L = pro.atoms   \n",
    "        if (m.residues[pro.id-2].resname == \"VAL\" and\n",
    "            m.residues[pro.id].resname == \"TRP\"):\n",
    "            Y35L = pro.atoms \n",
    "        if (m.residues[pro.id-2].resname == \"ASN\" and\n",
    "            m.residues[pro.id].resname == \"VAL\"):\n",
    "            Y33L = pro.atoms  \n",
    "        if (m.residues[pro.id-2].resname == \"TYR\" and\n",
    "            m.residues[pro.id].resname == \"TRP\"):\n",
    "            Y35H = pro.atoms  \n",
    "        if (m.residues[pro.id-2].resname == \"GLY\" and\n",
    "            m.residues[pro.id].resname == \"ILE\"):\n",
    "            Y52H = pro.atoms        \n",
    "\n",
    "    Y37L=[str(i.id)for i in Y37L if \"CB\" in i.name][0]\n",
    "    Y35L=[str(i.id)for i in Y35L if \"CB\" in i.name][0]\n",
    "    Y33L=[str(i.id)for i in Y33L if \"CB\" in i.name][0]\n",
    "    Y52H=[str(i.id)for i in Y52H if \"CB\" in i.name][0]\n",
    "    Y35H=[str(i.id)for i in Y35H if \"CB\" in i.name][0]\n",
    "    \n",
    "    name = name.split(\"/\")[-1]\n",
    "\n",
    "    f = open(\"driver\"+name[:-4]+\".dat\", 'w')\n",
    "    f.write(\"\\\n",
    "    Y37L: DISTANCE ATOMS={p},{Y37L}\\n\\\n",
    "    Y33L: DISTANCE ATOMS={p},{Y33L}\\n\\\n",
    "    Y35L: DISTANCE ATOMS={p},{Y35L}\\n\\\n",
    "    Y52H: DISTANCE ATOMS={p},{Y52H}\\n\\\n",
    "    Y35H: DISTANCE ATOMS={p},{Y35H}\\n\\\n",
    "    Y37Lang: ANGLE ATOMS={Y37L},{p},{o1}\\n\\\n",
    "    Y35Lang: ANGLE ATOMS={Y35L},{p},{o1}\\n\\\n",
    "    Y33Lang: ANGLE ATOMS={Y33L},{p},{o1}\\n\\\n",
    "    Y52Hang: ANGLE ATOMS={Y52H},{p},{o1}\\n\\\n",
    "    Y35Hang: ANGLE ATOMS={Y35H},{p},{o1}\\n\\\n",
    "    PRINT STRIDE=1 ARG=Y37L,Y37Lang,Y35L,Y35Lang,Y33L,Y33Lang,Y52H,Y52Hang,Y35H,Y35Hang, FILE=extra_CV{name}.out\\n\\\n",
    "    \".format(p=p, Y37L=Y37L, Y33L=Y33L, Y35L=Y35L, Y52H=Y52H, Y35H=Y35H, o1=o1,name=name[:-4]))\n",
    "    f.close()"
   ]
  },
  {
   "cell_type": "code",
   "execution_count": 103,
   "metadata": {
    "collapsed": false
   },
   "outputs": [
    {
     "name": "stdout",
     "output_type": "stream",
     "text": [
      "['./a49S.gro', './a49R.gro']\n"
     ]
    }
   ],
   "source": [
    "os.chdir(\"/home/domain/data/kirill/AB/XOP/md/new/newABs/a49\")\n",
    "files = []\n",
    "for a in os.walk('.'):\n",
    "    fz = a[2]\n",
    "    files.append([a[0]+\"/\"+x for x in fz if x.endswith(\"a49R.gro\") or x.endswith(\"a49S.gro\")])\n",
    "files = [k for z in [f for f in files if len(f) > 0] for k in z]\n",
    "\n",
    "#files = [files[0]] # for test\n",
    "#files = [files[2]] # for test\n",
    "print files"
   ]
  },
  {
   "cell_type": "code",
   "execution_count": 106,
   "metadata": {
    "collapsed": false
   },
   "outputs": [
    {
     "name": "stdout",
     "output_type": "stream",
     "text": [
      "./a49S.gro\n",
      "./a49R.gro\n"
     ]
    }
   ],
   "source": [
    "for name in files[:]:    \n",
    "    print name\n",
    "    m = pmx.Model(name)\n",
    "    lig = m.fetch_residues(\"XOP\")[0]\n",
    "    ids = [str(i.id) for i in lig.atoms if \"H\" not in i.name] # get non hydrogen atoms\n",
    "    ligand = \",\".join(ids)\n",
    "\n",
    "    p = [str(i.id)for i in lig.atoms if \"P\" in i.name][0]\n",
    "    o1 = [str(i.id)for i in lig.atoms if \"O1\" in i.name][0]\n",
    "    \n",
    "\n",
    "    pros = m.fetch_residues(\"TYR\")\n",
    "    \n",
    "    # a49\n",
    "    for pro in pros: # get the tyrosine with the right context\n",
    "        if (m.residues[pro.id-2].resname == \"TRP\" and\n",
    "            m.residues[pro.id].resname == \"GLN\"):\n",
    "            Y37L = pro.atoms   \n",
    "        if (m.residues[pro.id-2].resname == \"VAL\" and\n",
    "            m.residues[pro.id].resname == \"TRP\"):\n",
    "            Y35L = pro.atoms \n",
    "        if (m.residues[pro.id-2].resname == \"ASN\" and\n",
    "            m.residues[pro.id].resname == \"VAL\"):\n",
    "            Y33L = pro.atoms  \n",
    "        if (m.residues[pro.id-2].resname == \"GLY\" and\n",
    "            m.residues[pro.id].resname == \"ILE\"):\n",
    "            Y50H = pro.atoms \n",
    "        if (m.residues[pro.id-2].resname == \"TYR\" and\n",
    "            m.residues[pro.id].resname == \"TRP\"):\n",
    "            Y33H = pro.atoms  \n",
    "        if (m.residues[pro.id-2].resname == \"ILE\" and\n",
    "            m.residues[pro.id].resname == \"TYR\"):\n",
    "            Y52H = pro.atoms        \n",
    "\n",
    "    Y37L=[str(i.id)for i in Y37L if \"CB\" in i.name][0]\n",
    "    Y35L=[str(i.id)for i in Y35L if \"CB\" in i.name][0]\n",
    "    Y33L=[str(i.id)for i in Y33L if \"CB\" in i.name][0]\n",
    "    Y50H=[str(i.id)for i in Y50H if \"CB\" in i.name][0]\n",
    "    Y52H=[str(i.id)for i in Y52H if \"CB\" in i.name][0]\n",
    "    Y33H=[str(i.id)for i in Y33H if \"CB\" in i.name][0]\n",
    "    \n",
    "    name = name.split(\"/\")[-1]\n",
    "\n",
    "    f = open(\"driver\"+name[:-4]+\".dat\", 'w')\n",
    "    f.write(\"\\\n",
    "    Y37L: DISTANCE ATOMS={p},{Y37L}\\n\\\n",
    "    Y33L: DISTANCE ATOMS={p},{Y33L}\\n\\\n",
    "    Y35L: DISTANCE ATOMS={p},{Y35L}\\n\\\n",
    "    Y50H: DISTANCE ATOMS={p},{Y50H}\\n\\\n",
    "    Y52H: DISTANCE ATOMS={p},{Y52H}\\n\\\n",
    "    Y33H: DISTANCE ATOMS={p},{Y33H}\\n\\\n",
    "    Y37Lang: ANGLE ATOMS={Y37L},{p},{o1}\\n\\\n",
    "    Y33Lang: ANGLE ATOMS={Y33L},{p},{o1}\\n\\\n",
    "    Y35Lang: ANGLE ATOMS={Y35L},{p},{o1}\\n\\\n",
    "    Y50Hang: ANGLE ATOMS={Y50H},{p},{o1}\\n\\\n",
    "    Y52Hang: ANGLE ATOMS={Y52H},{p},{o1}\\n\\\n",
    "    Y33Hang: ANGLE ATOMS={Y33H},{p},{o1}\\n\\\n",
    "    PRINT STRIDE=1 ARG=Y37L,Y37Lang,Y35L,Y35Lang,Y33L,Y33Lang,Y52H,Y52Hang,Y33H,Y33Hang,Y50H,Y50Hang, FILE=extra_CV{name}.out\\n\\\n",
    "    \".format(p=p,Y37L=Y37L, Y33L=Y33L, Y35L=Y35L, Y52H=Y52H, Y33H=Y33H,Y50H=Y50H, o1=o1,name=name[:-4]))\n",
    "    f.close()"
   ]
  },
  {
   "cell_type": "code",
   "execution_count": null,
   "metadata": {
    "collapsed": true
   },
   "outputs": [],
   "source": []
  },
  {
   "cell_type": "code",
   "execution_count": null,
   "metadata": {
    "collapsed": true
   },
   "outputs": [],
   "source": []
  },
  {
   "cell_type": "code",
   "execution_count": null,
   "metadata": {
    "collapsed": true
   },
   "outputs": [],
   "source": []
  },
  {
   "cell_type": "code",
   "execution_count": null,
   "metadata": {
    "collapsed": true
   },
   "outputs": [],
   "source": []
  },
  {
   "cell_type": "code",
   "execution_count": null,
   "metadata": {
    "collapsed": true
   },
   "outputs": [],
   "source": []
  }
 ],
 "metadata": {
  "kernelspec": {
   "display_name": "Python 2",
   "language": "python",
   "name": "python2"
  },
  "language_info": {
   "codemirror_mode": {
    "name": "ipython",
    "version": 2
   },
   "file_extension": ".py",
   "mimetype": "text/x-python",
   "name": "python",
   "nbconvert_exporter": "python",
   "pygments_lexer": "ipython2",
   "version": "2.7.3"
  }
 },
 "nbformat": 4,
 "nbformat_minor": 0
}
