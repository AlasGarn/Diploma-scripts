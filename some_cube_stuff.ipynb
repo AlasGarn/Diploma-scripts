{
 "cells": [
  {
   "cell_type": "code",
   "execution_count": 1,
   "metadata": {
    "collapsed": true
   },
   "outputs": [],
   "source": [
    "\n",
    "\n",
    "import numpy as np\n",
    "import sys"
   ]
  },
  {
   "cell_type": "code",
   "execution_count": null,
   "metadata": {
    "collapsed": true
   },
   "outputs": [],
   "source": [
    "\n",
    "if len(sys.argv) != 2:\n",
    "    print \"First argument - name of .np file\"\n",
    "    exit()\n",
    "\n",
    "grid = np.load(sys.argv[1])\n",
    "\n",
    "def header():\n",
    "    cube_file.write(\" CPMD CUBE FILE.\\nOUTER LOOP: X, MIDDLE LOOP: Y, INNER LOOP: Z\\n\")\n",
    "    cube_file.write(\"    1 %f %f %f\\n\" %(-10.70000/0.529177210859, -75.10000/0.529177210859, -68.90000/0.529177210859))\n",
    "    cube_file.write(\"  534    %f   0.000000     0.000000\\n\" %(0.1/0.529177210859))\n",
    "    cube_file.write(\"  534    0.000000    %f    0.000000\\n\" %(0.1/0.529177210859))\n",
    "    cube_file.write(\"  534    0.000000    0.000000    %f\\n\" %(0.1/0.529177210859))\n",
    "    cube_file.write(\"    1    0.000000    %f %f %f\\n\" %(16.06500/0.529177210859, -48.37900/0.529177210859, -42.13700/0.529177210859))\n",
    "def nucl_grid():\n",
    "    i = 0\n",
    "    for x in range(grid.shape[0]):\n",
    "        for y in range(grid.shape[1]):\n",
    "            for z in range(grid.shape[2]):\n",
    "                if i < 5:\n",
    "#                    print type(float(grid[x, y, z][n])), type(number)\n",
    "                    cube_file.write(\"%f \" %(float(grid[x, y, z])/number))\n",
    "                    i += 1\n",
    "                elif i == 5:\n",
    "                    cube_file.write(\"%f\\n\" %(float(grid[x, y, z])/number))\n",
    "                    i = 0\n",
    "number = float(1)\n",
    "#float(12096)\n",
    "\n",
    "cube_file = open(\"%s.cube\" %sys.argv[1], \"w\")\n",
    "header()\n",
    "nucl_grid()\n",
    "cube_file.close()\n",
    "a = grid.flat[np.flatnonzero(grid)]\n",
    "print np.median(a)\n"
   ]
  }
 ],
 "metadata": {
  "kernelspec": {
   "display_name": "Python 2",
   "language": "python",
   "name": "python2"
  },
  "language_info": {
   "codemirror_mode": {
    "name": "ipython",
    "version": 2
   },
   "file_extension": ".py",
   "mimetype": "text/x-python",
   "name": "python",
   "nbconvert_exporter": "python",
   "pygments_lexer": "ipython2",
   "version": "2.7.3"
  }
 },
 "nbformat": 4,
 "nbformat_minor": 0
}
