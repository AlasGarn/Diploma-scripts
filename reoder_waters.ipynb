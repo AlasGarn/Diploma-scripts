{
 "cells": [
  {
   "cell_type": "code",
   "execution_count": null,
   "metadata": {
    "collapsed": true
   },
   "outputs": [],
   "source": [
    "%matplotlib inline"
   ]
  },
  {
   "cell_type": "markdown",
   "metadata": {},
   "source": [
    "# create driver file to move Y33L"
   ]
  },
  {
   "cell_type": "code",
   "execution_count": null,
   "metadata": {
    "collapsed": true
   },
   "outputs": [],
   "source": []
  },
  {
   "cell_type": "code",
   "execution_count": null,
   "metadata": {
    "collapsed": true
   },
   "outputs": [],
   "source": [
    "import os\n",
    "gros = []\n",
    "tops = []\n",
    "the_dir = '/home/domain/data/kirill/AB/XOP/md/a5/S/md-qm-transition/prfs'\n",
    "os.chdir(the_dir)\n",
    "\n",
    "for dr in os.walk(\".\"): \n",
    "    files = dr[2]\n",
    "    break\n",
    "print files\n",
    "\n",
    "for name in files:      \n",
    "    p = re.findall(\"(.*)Y(.*)L.*prf*\", name)\n",
    "    abname = p[0][0]\n",
    "    y = int(p[0][1])\n",
    "\n",
    "\n",
    "    if os.path.isfile(abname+\"-move-y33l.dat\") and y == 33 or os.path.isfile(abname+\"-move-y37l.dat\") and y == 37: continue\n",
    "    print abname     \n",
    "    m = pmx.Model(name)\n",
    "    \n",
    "    lig = m.fetch_residues(\"XOP\")[0]\n",
    "    ids = [str(i.id) for i in lig.atoms if \"H\" not in i.name] # get non hydrogen atoms\n",
    "    ligand = \",\".join(ids)\n",
    "\n",
    "    p = [str(i.id)for i in lig.atoms if \"P\" in i.name][0]\n",
    "    o = [str(i.id)for i in lig.atoms if \"O\" in i.name][0]\n",
    "    o1 = [str(i.id)for i in lig.atoms if \"O1\" in i.name][0]\n",
    "    o2 = [str(i.id)for i in lig.atoms if \"O2\" in i.name][0]\n",
    "    c8 = [str(i.id)for i in lig.atoms if \"C8\" in i.name][0]\n",
    "\n",
    "\n",
    "    pros = m.fetch_residues(\"TYR\")\n",
    "    for pro in pros: # get the tyrosine with the right context\n",
    "        if (m.residues[pro.id-2].resname == \"ASN\" and\n",
    "            m.residues[pro.id].resname == \"VAL\") and y == 33:\n",
    "            ats = pro.atoms   \n",
    "        if (m.residues[pro.id-2].resname == \"TRP\" and\n",
    "            m.residues[pro.id].resname == \"GLN\") and y == 37:\n",
    "            ats = pro.atoms   \n",
    "\n",
    "    oh=[str(i.id)for i in ats if \"OH\" in i.name][0]\n",
    "    cg=[str(i.id)for i in ats if \"CG\" in i.name][0]\n",
    "    cb=[str(i.id)for i in ats if \"CB\" in i.name][0]\n",
    "    ca=[str(i.id)for i in ats if \"CA\" in i.name][0]\n",
    "    c=[str(i.id)for i in ats if \"C\" == i.name][0]\n",
    "    name = name.split(\"/\")[-1]\n",
    "    f = open(abname+\"-move-y\"+str(y)+\"l.dat\", 'w')\n",
    "    f.write(\"\\\n",
    "d: DISTANCE ATOMS={p},{oh}\\n\\\n",
    "UPPER_WALLS ARG=d AT=0.3 KAPPA=5000\\n\\\n",
    "    \".format(p=p,oh=oh))\n",
    "    f.close()\n",
    "    \n"
   ]
  },
  {
   "cell_type": "code",
   "execution_count": null,
   "metadata": {
    "collapsed": true
   },
   "outputs": [],
   "source": []
  },
  {
   "cell_type": "code",
   "execution_count": null,
   "metadata": {
    "collapsed": true
   },
   "outputs": [],
   "source": []
  },
  {
   "cell_type": "markdown",
   "metadata": {},
   "source": [
    "# create qmmm-ready topologies after a moving Y33L"
   ]
  },
  {
   "cell_type": "code",
   "execution_count": 1,
   "metadata": {
    "collapsed": true
   },
   "outputs": [],
   "source": [
    "import pmx \n",
    "import pmx._pmx as pmxbin\n",
    "import pmx.ndx \n",
    "import operator\n",
    "import re\n",
    "import sys, os\n",
    "import imp\n",
    "qm_yeah = imp.load_source('qm_yeah', '/home/domain/data/kirill/AB/XOP/md-qmmm-transition/scripts/qm_yeah.py')\n",
    "from subprocess import Popen, PIPE\n",
    "from shlex import split\n",
    "import time\n",
    "from collections import OrderedDict as odict"
   ]
  },
  {
   "cell_type": "code",
   "execution_count": 3,
   "metadata": {
    "collapsed": false
   },
   "outputs": [
    {
     "data": {
      "text/plain": [
       "1"
      ]
     },
     "execution_count": 3,
     "metadata": {},
     "output_type": "execute_result"
    }
   ],
   "source": [
    "imp.PY_SOURCE"
   ]
  },
  {
   "cell_type": "code",
   "execution_count": null,
   "metadata": {
    "collapsed": false
   },
   "outputs": [],
   "source": [
    "def swap_mols(res1,res2,s):\n",
    "    \"\"\"\n",
    "    This function returns a pmx.model, after doing a pairwise swap \n",
    "    of the coordiantes of water molecules from res1 to res2 in a pmx.model s. \n",
    "    We need it to make the QM index continuous.\n",
    "    \n",
    "    res1 = []\n",
    "    res2 = []\n",
    "    s = pmx.model\n",
    "    \"\"\" \n",
    "\n",
    "    if len(res1) != len(res2):\n",
    "        print \"Residue lists are different\"\n",
    "        return\n",
    "        \n",
    "    for k in range(len(res1)):\n",
    "        m1 = s.residues[res1[k]-1]\n",
    "        m2 = s.residues[res2[k]-1]\n",
    "        m1_c=m1.coords()\n",
    "        m2_c=m2.coords()\n",
    "        if len(m2_c) != len(m1_c):\n",
    "            print \"Atom lists are different\"\n",
    "            return\n",
    "        \n",
    "        for i in range(len(m1_c)):\n",
    "            #print m1.atoms[i].name,m2.atoms[i].name\n",
    "            m1.atoms[i].x = m2_c[i]\n",
    "            m2.atoms[i].x = m1_c[i]\n",
    "    return s\n",
    "    \n",
    "def process_top (topfile,molcount):\n",
    "    \"\"\"\n",
    "    Explicitly adds water to a topology file\n",
    "    then writes it to disk with a suffix \"_swap\"\n",
    "    \n",
    "    topfile - path to top file\n",
    "    molcount - int\n",
    "    \"\"\"\n",
    "  \n",
    "    qmsol = [['         OW', ' SOL      OW       ','      -0.834    16.00000'],\n",
    "             ['         HW', ' SOL      HW1      ','       0.417     1.00800'],\n",
    "             ['         HW', ' SOL      HW2      ','       0.417     1.00800']]\n",
    "     \n",
    "\n",
    "    topin = open(topfile, 'r')\n",
    "    topout= open(topfile[0:-4] + '_swap.top', 'w')\n",
    "    toparr = topin.readlines()\n",
    "    topin.close()\n",
    "    found = False # switch for last atom find\n",
    "    c = 0 # backwards counter for last atom search\n",
    "    for k,l in enumerate(toparr):        \n",
    "        # skip to bonds\n",
    "        if '[ bonds ]' in l:\n",
    "            # reverse search for atom records\n",
    "            while not found:\n",
    "                try: \n",
    "                    c+=1\n",
    "                    atom_number = int(toparr[k-c].split()[0])\n",
    "                    res = int(toparr[k-c].split()[2])\n",
    "                    found = True\n",
    "                except IndexError:\n",
    "                    continue\n",
    "                        \n",
    "            # update the bonds record\n",
    "            for i in range(molcount):\n",
    "                res += 1\n",
    "                for atom in qmsol:\n",
    "                    atom_number += 1\n",
    "                    \n",
    "                    topout.write(\"%6d %2s %6d %4s %5d %2s\\n\" % (atom_number,atom[0],res,atom[1],atom_number, atom[2]))\n",
    "                              \n",
    "        # update the number of molecules record\n",
    "        if 'SOL ' in l:\n",
    "            tmp,nw=l.split()\n",
    "            topout.write(\"%s %d \\n\" % (tmp,int(nw)-molcount))\n",
    "            print \"changing the number of mm waters from \" + nw + \" to  \" + str(int(nw)-molcount)\n",
    "        else:\n",
    "            topout.write(l)  \n",
    "    topout.close()\n",
    "    return\n",
    "\n",
    "def mycom(sele):\n",
    "    \"\"\"\n",
    "    Returns center of mass for a list of pmx.atoms\n",
    "\n",
    "    sele = [<pmx.atom>]\n",
    "    \"\"\"\n",
    "    \n",
    "    x = sum(map(lambda a: a.x[0], sele))\n",
    "    y = sum(map(lambda a: a.x[1], sele))\n",
    "    z = sum(map(lambda a: a.x[2], sele))\n",
    "    M = sum(map(lambda a: 1, sele))\n",
    "    x/=M\n",
    "    y/=M\n",
    "    z/=M\n",
    "    return [x,y,z]\n",
    "\n",
    "def get_sidechain(m,res):  \n",
    "    \"\"\"\n",
    "    Returns a list of sidechain atoms.\n",
    "    \n",
    "    m = pmx.model\n",
    "    res = int\n",
    "    \"\"\"\n",
    "    \n",
    "    backbone = ['CA','N','H','C','O','HA']\n",
    "    residue = m.residues[res]\n",
    "    atoms = residue.atoms\n",
    "    atoms_backbone = residue.fetch_atoms(backbone)\n",
    "    sidechain = list(set(atoms) - set(atoms_backbone))\n",
    "   # print str(res) + \" \" + m.residues[res].resname + \", atoms: \" + str([a.name for a in sidechain])\n",
    "    return sidechain\n",
    "\n",
    "\n",
    "def find_close(m, com, resnames, dist, ref = None):\n",
    "    \"\"\"\n",
    "    Neighbour search around a point (com). \n",
    "    Suitable names of neighbours are specified in \"resnames\"\n",
    "    A residue is considered a neighbour if its center of mass\n",
    "    is within \"dist\" of given \"com\".\n",
    "    \n",
    "    m = pmx.model\n",
    "    com = [x,y,z]\n",
    "    resnames = [<str>]\n",
    "    dist = float\n",
    "    \"\"\"\n",
    "    \n",
    "    close = []\n",
    "    \n",
    "    if resnames == 'all': #for finding aminoacids by closest atoms\n",
    "        for r in m.residues:\n",
    "            if r.resname not in ['SOL', 'HOH', 'CL', 'NA', 'XQM', 'GLY',\"PRO\"]:\n",
    "                check = min([pmxbin.dist(com,at.x) for at in r.atoms])\n",
    "                if check < dist:\n",
    "                    close.append(r.id)\n",
    "    else:    \n",
    "        for r in m.residues: #for finding water \n",
    "            if r.resname == \"HOH\" or r.resname == \"SOL\":\n",
    "                check = pmxbin.dist(com, mycom(r.atoms))\n",
    "                check_ref = pmxbin.dist(ref, mycom(r.atoms))\n",
    "                if check < dist and check_ref < 0.8:\n",
    "                    close.append(r.id)               \n",
    "    return close\n",
    "        \n",
    "def get_atoms_ndx (gro, resi, notqm):\n",
    "    qmlist=[]\n",
    "    out = []\n",
    "    for a in gro:\n",
    "        if a[0] == resi and not( a[2].strip() in notqm) :\n",
    "            qmlist.append(a[3])  \n",
    "    return qmlist\n",
    "\n",
    "\n",
    "\n",
    "def get_aa_link (gro, resi):\n",
    "# given and index and a \"prepare_qm.GRO\" object returns a list of [??? , 'CT', 'HC']\n",
    "#  CT - HC is the substitution\n",
    "    list=[]\n",
    "    for a in gro:\n",
    "        if a[0] == resi and ( a[2].strip() == 'CA' or a[2].strip() == 'CB' ) :        \n",
    "            list.append(a[3])\n",
    "\n",
    "    list.reverse()\n",
    "    list.extend(['CT','HC'])   \n",
    "    return list    \n",
    "\n",
    "\n",
    "\n",
    "def get_shit_done_qm(gro, top, qms, lig):\n",
    "    \"\"\"\n",
    "    Adds linking atoms\n",
    "    Writes .gro, .top, .ndx with suffix _qm\n",
    "    \n",
    "    \n",
    "    \"\"\"\n",
    "    \n",
    "    qm = qm_yeah.AddLinkingAtoms({})\n",
    "    qm.gro = qm_yeah.GRO(open(gro))\n",
    "\n",
    "    qmlist = []\n",
    "    la_list = []\n",
    "    backbone = ['CA','N','H','C','O','HA']\n",
    "\n",
    "    for res in qms:\n",
    "        qmlist.extend(get_atoms_ndx(qm.gro.atoms,res,backbone))\n",
    "        la_list.append(get_aa_link (qm.gro.atoms,res))    \n",
    "    \n",
    "    qmlist.extend(get_atoms_ndx(qm.gro.atoms,lig,[])) # the ligand\n",
    "\n",
    "    #print \"qm list is: \" + str(qmlist)\n",
    "    #print \"la list is: \" + str(la_list)\n",
    "    \n",
    "    groout = gro[0:-4]+'_qm.gro'\n",
    "    grofile    = open(gro)\n",
    "    grooutfile = open(groout,'w')\n",
    "\n",
    "    \n",
    "    topout = top[0:-4]+'_qm.top'\n",
    "    topfile    = open(top)\n",
    "    topoutfile = open(topout,\"w\")\n",
    "\n",
    "    path=gro.split('/')\n",
    "    qmifile = open('./'.join(path[0:-1]) + 'temp.ndx','w')  \n",
    "\n",
    "    qm.bonds2break = la_list\n",
    "\n",
    "    qm.groups = odict()\n",
    "\n",
    "    qm.groups['System'] = range(1,qm.gro.num + 1)\n",
    "    qm.groups['Prot'] = range(1,qmlist[-1] + 1)\n",
    "    qm.groups['QM'] = qmlist\n",
    "    qm.group = 'QM'\n",
    "\n",
    "    qm.process_topology(topfile,topoutfile)\n",
    "\n",
    "    qm.write_index(qmifile)\n",
    "    qm.add_la_coordinates()\n",
    "\n",
    "    qm.gro.write(grooutfile)\n",
    "    \n",
    "    grofile.close()\n",
    "    grooutfile.close()\n",
    "    topfile.close()\n",
    "    topoutfile.close()\n",
    "    qmifile.close()\n",
    "    return\n",
    "\n",
    "def get_charge(m, qm, lig):\n",
    "    \"\"\"\n",
    "    Returns an integer total charge of residues from model \"m\",\n",
    "    listed in \"qm\" and also the lig charge.\n",
    "        \n",
    "    m = pmx.model\n",
    "    qm = [<int>]\n",
    "    lig = [<int>]\n",
    "    \"\"\"\n",
    "    \n",
    "    q = lig\n",
    "    pos = ['ARG', 'HIP', 'LYS']\n",
    "    neg = ['ASP', 'GLU',]\n",
    "    for res in qm:\n",
    "        if m.residues[res-1].resname in neg:\n",
    "            q -= 1\n",
    "        if m.residues[res-1].resname in pos:\n",
    "            q += 1\n",
    "    return q"
   ]
  },
  {
   "cell_type": "code",
   "execution_count": null,
   "metadata": {
    "collapsed": false
   },
   "outputs": [],
   "source": [
    "the_dir = '/home/domain/data/kirill/AB/XOP/md/a17/R/md-qm-transition/prfs/'\n",
    "os.chdir(the_dir)\n",
    "for dr in os.walk(\".\"): \n",
    "    dirs = dr[1]\n",
    "    break\n",
    "dz = [dr for dr in dirs if \"pre-qm.gro\" in dr]\n",
    "print dirs"
   ]
  },
  {
   "cell_type": "code",
   "execution_count": null,
   "metadata": {
    "collapsed": false,
    "scrolled": true
   },
   "outputs": [],
   "source": [
    "-"
   ]
  },
  {
   "cell_type": "code",
   "execution_count": null,
   "metadata": {
    "collapsed": false
   },
   "outputs": [],
   "source": [
    "os.chdir(the_dir + \"/\" + dirs[0])\n",
    "gros = [dr for dr in os.listdir(\".\") if \"-qm.gro\" in dr and not \"-pre-qm\" in dr]"
   ]
  },
  {
   "cell_type": "code",
   "execution_count": null,
   "metadata": {
    "collapsed": false
   },
   "outputs": [],
   "source": [
    "gros"
   ]
  },
  {
   "cell_type": "code",
   "execution_count": null,
   "metadata": {
    "collapsed": false
   },
   "outputs": [],
   "source": [
    "md = pmx.Model(gros[0])"
   ]
  },
  {
   "cell_type": "code",
   "execution_count": null,
   "metadata": {
    "collapsed": true
   },
   "outputs": [],
   "source": []
  },
  {
   "cell_type": "code",
   "execution_count": null,
   "metadata": {
    "collapsed": true
   },
   "outputs": [],
   "source": []
  },
  {
   "cell_type": "code",
   "execution_count": null,
   "metadata": {
    "collapsed": true
   },
   "outputs": [],
   "source": [
    "\n"
   ]
  },
  {
   "cell_type": "code",
   "execution_count": null,
   "metadata": {
    "collapsed": false
   },
   "outputs": [],
   "source": [
    "subprocess.call([printf \"1 | 13 | 14\\n!26\\nq\\n\" | make_ndx -f {grob} -o {ndx}])"
   ]
  },
  {
   "cell_type": "code",
   "execution_count": null,
   "metadata": {
    "collapsed": false
   },
   "outputs": [],
   "source": [
    "nd.ids[-1]"
   ]
  },
  {
   "cell_type": "code",
   "execution_count": null,
   "metadata": {
    "collapsed": true
   },
   "outputs": [],
   "source": []
  },
  {
   "cell_type": "code",
   "execution_count": null,
   "metadata": {
    "collapsed": false
   },
   "outputs": [],
   "source": [
    "asd = qms.fetch_atoms('P',how='byname')[0].id"
   ]
  },
  {
   "cell_type": "code",
   "execution_count": null,
   "metadata": {
    "collapsed": false
   },
   "outputs": [],
   "source": [
    "asd"
   ]
  },
  {
   "cell_type": "markdown",
   "metadata": {
    "collapsed": false
   },
   "source": [
    "### search for R-S conversions"
   ]
  },
  {
   "cell_type": "code",
   "execution_count": null,
   "metadata": {
    "collapsed": false
   },
   "outputs": [],
   "source": [
    "sex = open('/home/domain/data/kirill/AB/XOP/md_noqm/mdR_ncv_rot_pb/test.pdb','r')\n",
    "P = []\n",
    "O = []\n",
    "O1 = []\n",
    "O2 = []\n",
    "C8 = []\n",
    "\n",
    "for line in sex:\n",
    "    \n",
    "    if \" P \" in line: P.append([float(line[31:38].strip()),float(line[40:46].strip()),float(line[48:54].strip())])\n",
    "    if \" O \" in line: O.append([float(line[31:38].strip()),float(line[40:46].strip()),float(line[48:54].strip())])\n",
    "    if \"O1\" in line: O1.append([float(line[31:38].strip()),float(line[40:46].strip()),float(line[48:54].strip())])\n",
    "    if \"O2\" in line: O2.append([float(line[31:38].strip()),float(line[40:46].strip()),float(line[48:54].strip())])\n",
    "    if \"C8\" in line: C8.append([float(line[31:38].strip()),float(line[40:46].strip()),float(line[48:54].strip())])\n",
    "sex.close()\n",
    "        "
   ]
  },
  {
   "cell_type": "code",
   "execution_count": null,
   "metadata": {
    "collapsed": false
   },
   "outputs": [],
   "source": [
    "import numpy as np\n",
    "\n",
    "def unit_vector(vector):\n",
    "    \"\"\" Returns the unit vector of the vector.  \"\"\"\n",
    "    return vector / np.linalg.norm(vector)\n",
    "\n",
    "def angle_between(v1, v2):\n",
    "    \"\"\" Returns the angle in radians between vectors 'v1' and 'v2'::\n",
    "\n",
    "            >>> angle_between((1, 0, 0), (0, 1, 0))\n",
    "            1.5707963267948966\n",
    "            >>> angle_between((1, 0, 0), (1, 0, 0))\n",
    "            0.0\n",
    "            >>> angle_between((1, 0, 0), (-1, 0, 0))\n",
    "            3.141592653589793\n",
    "    \"\"\"\n",
    "    v1_u = unit_vector(v1)\n",
    "    v2_u = unit_vector(v2)\n",
    "    angle = np.arccos(np.dot(v1_u, v2_u))\n",
    "    if np.isnan(angle):\n",
    "        if (v1_u == v2_u).all():\n",
    "            return 0.0\n",
    "        else:\n",
    "            return np.pi\n",
    "    return angle   "
   ]
  },
  {
   "cell_type": "code",
   "execution_count": null,
   "metadata": {
    "collapsed": true
   },
   "outputs": [],
   "source": [
    "result = []\n",
    "for at in range(len(P)):\n",
    "    a = np.subtract(O[at],O1[at])\n",
    "    b = np.subtract(O[at],C8[at])\n",
    "    x = np.subtract(P[at],O2[at])\n",
    "    n = np.cross(a,b)\n",
    "    result.append(angle_between(x,n))"
   ]
  },
  {
   "cell_type": "code",
   "execution_count": null,
   "metadata": {
    "collapsed": true
   },
   "outputs": [],
   "source": [
    "import matplotlib\n",
    "import numpy as np\n",
    "import matplotlib.pyplot as plt\n",
    "%matplotlib inline  \n",
    "x = range(len(result))\n",
    "plt.plot(x, result)\n",
    "plt.title('R-S transition')\n",
    "plt.show()"
   ]
  },
  {
   "cell_type": "markdown",
   "metadata": {},
   "source": [
    "##### select reation-favorable geometry from pdb file"
   ]
  },
  {
   "cell_type": "code",
   "execution_count": null,
   "metadata": {
    "collapsed": false
   },
   "outputs": [],
   "source": [
    "\n",
    "        "
   ]
  },
  {
   "cell_type": "code",
   "execution_count": null,
   "metadata": {
    "collapsed": false
   },
   "outputs": [],
   "source": []
  },
  {
   "cell_type": "code",
   "execution_count": null,
   "metadata": {
    "collapsed": false
   },
   "outputs": [],
   "source": [
    "files"
   ]
  },
  {
   "cell_type": "markdown",
   "metadata": {
    "collapsed": false
   },
   "source": [
    "### system size test"
   ]
  },
  {
   "cell_type": "code",
   "execution_count": null,
   "metadata": {
    "collapsed": false
   },
   "outputs": [],
   "source": [
    "import os\n",
    "gro = 'conf.gro'\n",
    "top = 'topol.top'\n",
    "os.chdir('/home/domain/data/kirill/AB/XOP/test/ref_reaction/')\n",
    "LIG = 4 # res number of ligand\n",
    "lig_charge = 1\n",
    "R = 0.1 # radius for finding aminoacids\n",
    "D = 0.5 # radius for finding water around qm sidechains\n",
    "attacking = 2 # res index of attacking aa\n",
    "important = []\n",
    "qm_last = []\n",
    "while R < 1.0 and len(qm_last) < 3:\n",
    "    qm =[]\n",
    "\n",
    "    print \"processing \" + top[:-4]\n",
    "\n",
    "    m = pmx.Model(gro)  \n",
    "\n",
    "    #########################################\n",
    "    #\n",
    "    # find aminoacids for qm\n",
    "    #\n",
    "    #########################################\n",
    "\n",
    "    p = m.residues[LIG-1].fetch_atoms([\"P\"])[0]\n",
    "    o2= m.residues[LIG-1].fetch_atoms(['O2'])[0]\n",
    "    o = m.residues[attacking-1].fetch_atoms([\"OH\"])[0]\n",
    "    while (len(qm) <= len(qm_last)):\n",
    "        qm = find_close(m, p.x, 'all', R) # around phosphorous\n",
    "        qm = find_close(m, o.x, 'all', R) # around tyrosine oxygen\n",
    "        R += 0.01\n",
    "    qm_last = list(qm)\n",
    "    \n",
    "    print \"found  \" + str(len(qm)) + \" aminoacids: \\n\" + str(qm) + \" in radius: \"  + str(R) +\"\\n\"\n",
    "\n",
    "    #get shit done\n",
    "    get_shit_done_qm(gro, top, qm, LIG)\n",
    "\n",
    "    !mv topol_qm.top topol{R}_qm.top\n",
    "    !mv conf_qm.gro topol{R}_qm.gro\n",
    "\n",
    "\n",
    "    #########################################\n",
    "    #\n",
    "    # get sidechain atoms xyz\n",
    "    #\n",
    "    #########################################\n",
    "\n",
    "    reacting = []\n",
    "\n",
    "    sidechains = [get_sidechain(m,res-1) for res in qm]  \n",
    "    for sidechain in sidechains:\n",
    "        reacting.extend([atom.x for atom in sidechain if \"H\" not in atom.name]) # add sidechain heavy  xyz\n",
    "    reacting.extend([atom.x for atom in m.residues[LIG-1].atoms if \"H\" not in atom.name]) # add ligand heavy xyz\n",
    "    print \"will search for water near \" + str(len(reacting)) + \" atoms\"\n",
    "    \n",
    "\n",
    "\n",
    "    #########################################\n",
    "    #\n",
    "    # find and add qm water near sidechains, updating ndx's\n",
    "    #\n",
    "    #########################################\n",
    "\n",
    "    topo = top[:-4]+str(R)+\"_qm.top\"\n",
    "    grob = top[:-4]+str(R)+\"_qm.gro\"\n",
    "    ndx = top[:-4]+str(R)+\"_qm.ndx\"\n",
    "    m = pmx.Model(grob)\n",
    "    \n",
    "    !printf \"1 | 13 | 14\\n!24\\nq\\n\" | make_ndx -f {grob} -o {ndx}\n",
    "\n",
    "\n",
    "    ndx_file = pmx.ndx.IndexFile(ndx)\n",
    "\n",
    "    # we need to make an index file to get atoms by IDs\n",
    "\n",
    "    solndx = ndx_file['SOL'].ids  \n",
    "    waterion_NDX = ndx_file['Water_and_ions'].ids\n",
    "    protndx = ndx_file['Protein_XOP_XXX'].ids\n",
    "    not_protndx = ndx_file['!Protein_XOP_XXX'].ids\n",
    "    posrendx = list(protndx)\n",
    "    nd = pmx.ndx.IndexFile(\"temp.ndx\")\n",
    "    qmndx = nd['QM'].ids\n",
    "\n",
    "    # search for waters near qm system\n",
    "\n",
    "    nb=set() # to make sure waters are unique\n",
    "    for xyz in [p.x]:\n",
    "        nb.update(find_close(m, xyz, 'HOH', D, p.x))\n",
    "    nb=list(nb)\n",
    "    print \"found \" + str(len(nb)) + \" water(s)\"\n",
    "\n",
    "    first_water = 0\n",
    "    for r in m.residues: \n",
    "        if r.resname == 'SOL':\n",
    "            first_water = r.id\n",
    "            break\n",
    "\n",
    "    # calculate indicies of waters to become QM\n",
    "    waters = range(first_water, first_water + len(nb))\n",
    "    print \"waters: \" + str(waters)\n",
    "    print \"waters: \" + str(nb)\n",
    "    # move them right at the beginning of all waters to make a continuous index group\n",
    "    m_sw = swap_mols(nb,waters,m)\n",
    "\n",
    "    # add qm waters to QM and Protein_XOP index groups\n",
    "    for i in waters:\n",
    "        residue = m.residues[i-1]\n",
    "        for a in residue.atoms:\n",
    "            qmndx.append(a.id)\n",
    "            protndx.append(a.id)\n",
    "\n",
    "    # update the QM-containing groups\n",
    "\n",
    "    ndx_file.add_group(pmx.ndx.IndexGroup(name='QM',ids=qmndx))\n",
    "    ndx_file.add_group(pmx.ndx.IndexGroup(name='Protein_XOP_XXX',ids=protndx))\n",
    "    # delete the QM water from the other index grops\n",
    "\n",
    "    ndx_file.add_group(pmx.ndx.IndexGroup(name='!Protein_XOP_XXX',ids=not_protndx[3*len(nb):]))\n",
    "    ndx_file.delete_group('SOL')\n",
    "    ndx_file.add_group(pmx.ndx.IndexGroup(name='SOL',ids=solndx[3*len(nb):]))\n",
    "    ndx_file.delete_group('Water_and_ions')\n",
    "    ndx_file.add_group(pmx.ndx.IndexGroup(name='Water_and_ions',ids=waterion_NDX[3*len(nb):]))\n",
    "\n",
    "\n",
    "    ndx_file.write(ndx[0:-4]+'_swap.ndx')   \n",
    "    m_sw.writeGRO(grob[0:-4]+'_swap.gro')\n",
    "    process_top(topo, len(nb))\n",
    "\n",
    "\n",
    "    #########################################\n",
    "    #\n",
    "    # make posre file\n",
    "    #\n",
    "    ######################################### \n",
    "\n",
    "    pos = open(grob[0:-4] + str(R) + \"_swap.itp\",'w')\n",
    "    pos.write(\"[ position_restraints ]\\n\")\n",
    "    for atom in posrendx:\n",
    "        if (\"H\" not in m.atoms[atom-1].name):\n",
    "            pos.write(str(atom)+\" 1 100000 100000 100000\\n\")\n",
    "    pos.close()\n",
    "\n",
    "    #########################################\n",
    "    #\n",
    "    # make plumed file\n",
    "    #\n",
    "    ######################################### \n",
    "\n",
    "    qms = m.residues[attacking-1]\n",
    "    o = qms.fetch_atoms('OH',how='byname')[0].id\n",
    "    h = qms.fetch_atoms('HH',how='byname')[0].id\n",
    "    qms = m.residues[LIG-1]\n",
    "    p = qms.fetch_atoms('P',how='byname')[0].id\n",
    "    o2 = qms.fetch_atoms('O2',how='byname')[0].id\n",
    "    plu = open(grob[0:-4] + str(R) + \".dat\",'w')\n",
    "    plu.write(\"\\\n",
    "OH: DISTANCE ATOMS={0},{1}\\n\\\n",
    "d: DISTANCE ATOMS={0},{2}\\n\\\n",
    "h: DISTANCE ATOMS={1},{3}\\n\\\n",
    "METAD LABEL=metad ARG=OH HEIGHT=0.5 SIGMA=0.02 PACE=10 FILE=HILLS\\n\\\n",
    "UPPER_WALLS ARG=d AT=0.25 KAPPA=10000\\n\\\n",
    "UPPER_WALLS ARG=h AT=0.20 KAPPA=10000\\n\\\n",
    "PRINT ARG=OH,d,metad.bias STRIDE=10 FILE=COLVAR\\n\\\n",
    "    \".format(o,h,p,o2))\n",
    "    plu.close()\n",
    "\n",
    "\n",
    "    #########################################\n",
    "    #\n",
    "    # make total qm charge file\n",
    "    #\n",
    "    #########################################    \n",
    "\n",
    "    fl = open(top[:-4] + str(R)+\".q\", \"w\")\n",
    "    fl.write(str(get_charge(m,qm,lig_charge)))\n",
    "    print(\"charge \"+str(get_charge(m,qm,lig_charge)))\n",
    "    fl.close()\n",
    "    files= [topo[0:-4]+'_swap.top',\n",
    "            grob[0:-4]+'_swap.gro',\n",
    "            ndx[0:-4]+'_swap.ndx',\n",
    "            grob[0:-4] + str(R) + \".dat\",\n",
    "            top[:-4] + str(R)+\".q\",\n",
    "            grob[0:-4] + str(R) + \"_swap.itp\"]\n",
    "    !mkdir {R}\n",
    "    !mkdir {R}-2\n",
    "    !mv {files[0]} {R}/topol.top\n",
    "    !mv {files[1]} {R}/conf.gro\n",
    "    !mv {files[2]} {R}/index.ndx\n",
    "    !mv {files[3]} {R}/plumed.dat\n",
    "    !mv {files[4]} {R}/charge.q\n",
    "    !mv {files[5]} {R}/posre.itp\n",
    "    !cp -r {R}/* {R}-2\n",
    "    \n",
    "    break"
   ]
  },
  {
   "cell_type": "code",
   "execution_count": null,
   "metadata": {
    "collapsed": false
   },
   "outputs": [],
   "source": [
    "asd=m.residues[307]"
   ]
  },
  {
   "cell_type": "code",
   "execution_count": null,
   "metadata": {
    "collapsed": true
   },
   "outputs": [],
   "source": [
    "[a.x for a in m.residues[LIG-1].atoms if \"H\" not in a.name]"
   ]
  },
  {
   "cell_type": "code",
   "execution_count": null,
   "metadata": {
    "collapsed": false
   },
   "outputs": [],
   "source": [
    "!mkdir\n"
   ]
  },
  {
   "cell_type": "code",
   "execution_count": null,
   "metadata": {
    "collapsed": true
   },
   "outputs": [],
   "source": []
  }
 ],
 "metadata": {
  "kernelspec": {
   "display_name": "Python 2",
   "language": "python",
   "name": "python2"
  },
  "language_info": {
   "codemirror_mode": {
    "name": "ipython",
    "version": 2
   },
   "file_extension": ".py",
   "mimetype": "text/x-python",
   "name": "python",
   "nbconvert_exporter": "python",
   "pygments_lexer": "ipython2",
   "version": "2.7.3"
  }
 },
 "nbformat": 4,
 "nbformat_minor": 0
}
