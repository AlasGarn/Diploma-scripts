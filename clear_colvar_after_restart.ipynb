{
 "cells": [
  {
   "cell_type": "code",
   "execution_count": 7,
   "metadata": {
    "collapsed": true
   },
   "outputs": [],
   "source": [
    "# BE CAREFUL IF YOU HAVE PERIODIC CVs!!! THE SCRIPT WILL MESS UP THE HEADER!!!\n",
    "# ALSO IF RESTARTS ARE WITHOUGHT LOSS OF TIME - THE SCRIPT WILL DELETE EXTRA LINES"
   ]
  },
  {
   "cell_type": "code",
   "execution_count": 15,
   "metadata": {
    "collapsed": false,
    "scrolled": true
   },
   "outputs": [
    {
     "name": "stdout",
     "output_type": "stream",
     "text": [
      "doing COLVAR...\n",
      "found a restart at timestamp: 0.0\n",
      "removed 0 lines total\n",
      "doing COLVARS...\n",
      "found a restart at timestamp: 0.0\n",
      "removed 0 lines total\n"
     ]
    }
   ],
   "source": [
    "import os \n",
    "os.chdir(\"/home/domain/data/kirill/AB/XOP/md/mutant_cone/12_3rel57_60/\")\n",
    "for a in os.listdir():\n",
    "    if \"COLVAR\" in a and not \"ready\" in a:\n",
    "        f = open(a)\n",
    "        lns = f.readlines()\n",
    "        f.close()\n",
    "        print(\"doing \"+ a + \"...\")\n",
    "        \n",
    "        lns.reverse()\n",
    "        new_lns = [] # output\n",
    "        number = -1 # extra lines?\n",
    "        for index, l in enumerate(lns):                          # read colvar backwards\n",
    "            if \"FIELDS\" in l:                                    # if restart detected \n",
    "                number = round(float(lns[index-1].split()[0]),1) # get the first timestamp after restart\n",
    "                index2 = index\n",
    "                print(\"found a restart at timestamp: \" + str(number))\n",
    "                continue                                         #skip this line as well!\n",
    "\n",
    "            if round(float(l.split()[0]),1) <= number:           # if we found a line matching the restart time\n",
    "                number = -1                                      # set the \"extra lines\" marker to False\n",
    "                print(\"removed \" + str(index - index2) + \" lines\")\n",
    "                continue                                         #skip this line as well!\n",
    "            if number == -1:   \n",
    "                new_lns.append(l)\n",
    "\n",
    "        new_lns.append(lns[-1]) # add the \"FIELDS\" line\n",
    "        new_lns.reverse()\n",
    "        print(\"removed \" + str(len(lns) - len(new_lns)) + \" lines total\")\n",
    "        f = open(a,'w')\n",
    "        f.writelines(new_lns)\n",
    "        f.close()  "
   ]
  },
  {
   "cell_type": "code",
   "execution_count": 13,
   "metadata": {
    "collapsed": false
   },
   "outputs": [
    {
     "ename": "IndentationError",
     "evalue": "unexpected indent (<ipython-input-13-d40ea2012fca>, line 2)",
     "output_type": "error",
     "traceback": [
      "\u001b[1;36m  File \u001b[1;32m\"<ipython-input-13-d40ea2012fca>\"\u001b[1;36m, line \u001b[1;32m2\u001b[0m\n\u001b[1;33m    if \"HILLS\" in a and not \"clean\" in a:\u001b[0m\n\u001b[1;37m    ^\u001b[0m\n\u001b[1;31mIndentationError\u001b[0m\u001b[1;31m:\u001b[0m unexpected indent\n"
     ]
    }
   ],
   "source": [
    "## for a in os.listdir():\n",
    "    if \"HILLS\" in a and not \"clean\" in a:\n",
    "        f = open(a)\n",
    "        lns = f.readlines()\n",
    "        f.close()\n",
    "        print(\"doind \"+ a + \"...\")\n",
    "        \n",
    "        lns.reverse()\n",
    "        new_lns = [] # output\n",
    "        number = -1 # extra lines?\n",
    "        for index, l in enumerate(lns):                          # read colvar backwards\n",
    "            if len(l.split()) > 0:\n",
    "                if \"FIELDS\" in l: continue\n",
    "                if \"SET\" in l:                                    # if restart detected \n",
    "                    print(\"found a restart!\")\n",
    "                    number = round(float(lns[index-1].split()[0]),1) # get the first timestamp after restart\n",
    "                    index2 = index\n",
    "                    continue                                         #skip this line as well!\n",
    "                if round(float(l.split()[0]),1) == number:           # if we found a line matching the restart time\n",
    "                    number = -1                                      # set the \"extra lines\" marker to False\n",
    "                    print(\"removed \" + str(index - index2) + \" lines\")\n",
    "                    continue                                         #skip this line as well!\n",
    "                if number == -1:   \n",
    "                    new_lns.append(l)\n",
    "        new_lns.append(lns[-2]) # add the \"SET\" line\n",
    "        new_lns.append(lns[-1]) # add the \"FIELDS\" line\n",
    "        new_lns.reverse()\n",
    "        print(\"actually removed \" + str(len(lns) - len(new_lns)) + \" lines\")\n",
    "        f = open(a,'w')\n",
    "        f.writelines(new_lns)\n",
    "        f.close()  "
   ]
  },
  {
   "cell_type": "markdown",
   "metadata": {
    "collapsed": true
   },
   "source": [
    "####       "
   ]
  },
  {
   "cell_type": "code",
   "execution_count": null,
   "metadata": {
    "collapsed": true
   },
   "outputs": [],
   "source": []
  },
  {
   "cell_type": "code",
   "execution_count": null,
   "metadata": {
    "collapsed": true
   },
   "outputs": [],
   "source": []
  },
  {
   "cell_type": "code",
   "execution_count": 37,
   "metadata": {
    "collapsed": true
   },
   "outputs": [],
   "source": []
  },
  {
   "cell_type": "code",
   "execution_count": 41,
   "metadata": {
    "collapsed": false
   },
   "outputs": [
    {
     "data": {
      "text/plain": [
       "1632979"
      ]
     },
     "execution_count": 41,
     "metadata": {},
     "output_type": "execute_result"
    }
   ],
   "source": [
    "len(lns)"
   ]
  },
  {
   "cell_type": "code",
   "execution_count": 40,
   "metadata": {
    "collapsed": false
   },
   "outputs": [
    {
     "data": {
      "text/plain": [
       "631605"
      ]
     },
     "execution_count": 40,
     "metadata": {},
     "output_type": "execute_result"
    }
   ],
   "source": [
    "len(new_lns)"
   ]
  },
  {
   "cell_type": "code",
   "execution_count": null,
   "metadata": {
    "collapsed": true
   },
   "outputs": [],
   "source": []
  }
 ],
 "metadata": {
  "kernelspec": {
   "display_name": "Python 3",
   "language": "python",
   "name": "python3"
  },
  "language_info": {
   "codemirror_mode": {
    "name": "ipython",
    "version": 3
   },
   "file_extension": ".py",
   "mimetype": "text/x-python",
   "name": "python",
   "nbconvert_exporter": "python",
   "pygments_lexer": "ipython3",
   "version": "3.4.3"
  }
 },
 "nbformat": 4,
 "nbformat_minor": 0
}
