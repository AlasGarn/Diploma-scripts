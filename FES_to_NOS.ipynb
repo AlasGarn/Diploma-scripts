{
 "cells": [
  {
   "cell_type": "code",
   "execution_count": 265,
   "metadata": {
    "collapsed": true
   },
   "outputs": [],
   "source": [
    "import os\n",
    "import numpy as np\n",
    "import matplotlib.pyplot as plt\n",
    "%matplotlib inline\n",
    "import matplotlib\n",
    "import seaborn as sns\n",
    "matplotlib.rc('font', **{\n",
    "'family': 'DejaVu Sans',\n",
    "'weight': 'normal'\n",
    "})\n"
   ]
  },
  {
   "cell_type": "code",
   "execution_count": 9,
   "metadata": {
    "collapsed": true
   },
   "outputs": [],
   "source": [
    "def bol(e, beta):\n",
    "    return np.exp(-e*beta)"
   ]
  },
  {
   "cell_type": "code",
   "execution_count": 10,
   "metadata": {
    "collapsed": true
   },
   "outputs": [],
   "source": [
    "enantio = \"R\" # \"S\"\n",
    "ab = \"a5\" # \"a5\"\n",
    "residue = \"33l\" # \"33l\""
   ]
  },
  {
   "cell_type": "code",
   "execution_count": 11,
   "metadata": {
    "collapsed": false
   },
   "outputs": [],
   "source": [
    "beta = 1 / 2.5\n",
    "hills_pace = 250"
   ]
  },
  {
   "cell_type": "code",
   "execution_count": 12,
   "metadata": {
    "collapsed": false
   },
   "outputs": [],
   "source": [
    "with open(\"/home/domain/data/kirill/AB/XOP/md/\"+ab+\"/\" + enantio + \"/HILLS\") as f:\n",
    "    for i, l in enumerate(f):\n",
    "            pass\n",
    "total_states = (i + 1) * hills_pace\n",
    "with open(\"/home/domain/data/kirill/AB/XOP/md/\"+ ab + \"/fes-\" + ab + enantio + \"-y\" + residue + \".dat\") as f:\n",
    "    lines = f.readlines()"
   ]
  },
  {
   "cell_type": "code",
   "execution_count": 13,
   "metadata": {
    "collapsed": false
   },
   "outputs": [],
   "source": [
    "z_x = []\n",
    "z_total = []\n",
    "\n",
    "for line in lines:\n",
    "    l = [float(c) for c in line.split()]\n",
    "    if len(l) < 3 or l[2] == np.inf:\n",
    "        continue\n",
    "    if l[0] > 0.7 and \\\n",
    "       l[0] < 1 and \\\n",
    "       l[1] > 2.44:\n",
    "        z_x.append(bol(l[2],beta))\n",
    "    z_total.append(bol(l[2],beta))\n",
    "N = sum(z_x) / sum(z_total) * total_states"
   ]
  },
  {
   "cell_type": "code",
   "execution_count": 332,
   "metadata": {
    "collapsed": false
   },
   "outputs": [
    {
     "name": "stdout",
     "output_type": "stream",
     "text": [
      "36.7654807439 4761.00722883 181330500\n"
     ]
    }
   ],
   "source": [
    "print sum(z_x), sum(z_total), total_states"
   ]
  },
  {
   "cell_type": "code",
   "execution_count": 333,
   "metadata": {
    "collapsed": false
   },
   "outputs": [
    {
     "name": "stdout",
     "output_type": "stream",
     "text": [
      "1400272\n"
     ]
    }
   ],
   "source": [
    "print int(round(N))"
   ]
  },
  {
   "cell_type": "markdown",
   "metadata": {
    "collapsed": true
   },
   "source": [
    "# CALCLUTAE R/S CONVERGENCE"
   ]
  },
  {
   "cell_type": "code",
   "execution_count": 215,
   "metadata": {
    "collapsed": true
   },
   "outputs": [],
   "source": [
    "import os\n",
    "import numpy as np"
   ]
  },
  {
   "cell_type": "code",
   "execution_count": 588,
   "metadata": {
    "collapsed": true
   },
   "outputs": [],
   "source": [
    "def bol(e, beta):\n",
    "    return np.exp(-e*beta)\n",
    "def productive(distance,angle):\n",
    "    if distance < 1.0 and distance > 0.8 and angle > 2.44:\n",
    "        return True\n",
    "    return False\n",
    "\n",
    "beta = 1 / 2.5\n",
    "hills_pace = 250\n",
    "with open(dr+\"HILLS\") as f:\n",
    "    for i, l in enumerate(f):\n",
    "            pass\n",
    "total_states = (i + 1) * hills_pace"
   ]
  },
  {
   "cell_type": "markdown",
   "metadata": {},
   "source": [
    "# for a5 or a17"
   ]
  },
  {
   "cell_type": "code",
   "execution_count": 720,
   "metadata": {
    "collapsed": false
   },
   "outputs": [],
   "source": [
    "Ns = []\n",
    "drr = \"fes_convergence\"\n",
    "dr = '/home/domain/data/kirill/AB/XOP/md/a17/R/'\n",
    "fcol = 2\n",
    "files = [f for f in os.listdir(dr+drr) if \"fes_rew\" in f and not \"png\" in f]\n",
    "z_totalsR = []\n",
    "z_xR = []\n",
    "for fl in range(len(files)):\n",
    "    try:\n",
    "        with open(dr+drr+'/fes_rew' + str(fl) + \".dat\") as f:\n",
    "            lines = f.readlines()\n",
    "    except IOError as e:\n",
    "        print fl\n",
    "        print \"error \" + e.strerror\n",
    "    z_x = []\n",
    "    z_total = []\n",
    "    for line in lines:\n",
    "        l = [float(c) for c in line.split()]\n",
    "        \n",
    "        if len(l) < 3 or e == l[fcol]:\n",
    "            continue\n",
    "        e = l[fcol]\n",
    "        if productive(*l[:2]):\n",
    "            z_x.append(bol(e,beta))\n",
    "        z_total.append(bol(e,beta))\n",
    "        if max_e < l[2]: max_e = e\n",
    "    N = sum(z_x) / sum(z_total)# * total_states * i/ 75\n",
    "    z_xR.append(sum(z_x))\n",
    "    z_totalsR.append(sum(z_total))\n",
    "    Ns.append(N)\n",
    "NsR = Ns\n",
    "\n",
    "Ns = []\n",
    "dr = '/home/domain/data/kirill/AB/XOP/md/a17/S/'\n",
    "files = [f for f in os.listdir(dr+drr) if \"fes_rew\" in f and not \"png\" in f]\n",
    "z_totalsS = []\n",
    "z_xS = []\n",
    "for fl in range(len(files)):\n",
    "    with open(dr+drr+'/fes_rew' + str(fl) + \".dat\") as f:\n",
    "        lines = f.readlines()      \n",
    "    z_x = []\n",
    "    z_total = []\n",
    "    for line in lines:\n",
    "        l = [float(c) for c in line.split()]\n",
    "        if len(l) < 3 or e == l[fcol]:\n",
    "            continue\n",
    "        e = l[fcol]\n",
    "        if productive(*l[:2]):\n",
    "            z_x.append(bol(e,beta))\n",
    "        z_total.append(bol(e,beta))\n",
    "    N = sum(z_x) / sum(z_total)# * total_states * i/ 75\n",
    "    z_xS.append(sum(z_x))\n",
    "    z_totalsS.append(sum(z_total))\n",
    "    Ns.append(N)\n",
    "NsS = Ns\n",
    "\n",
    "# cut the results to equal length\n",
    "length = min(len(NsS),len(NsR))\n",
    "NsR = [1]+NsR[:length]\n",
    "NsS = [1]+NsS[:length]"
   ]
  },
  {
   "cell_type": "markdown",
   "metadata": {},
   "source": [
    "# Kd calculation"
   ]
  },
  {
   "cell_type": "code",
   "execution_count": 716,
   "metadata": {
    "collapsed": false
   },
   "outputs": [
    {
     "name": "stdout",
     "output_type": "stream",
     "text": [
      "Kd = 82.98 uM\n"
     ]
    }
   ],
   "source": [
    "e0 = 43.50594662 # difference in minima of 1d fes\n",
    "r = 0.15 # cylinder radius in A\n",
    "lc = 1.5 - 1.0 # cylinder length - wall\n",
    "fcol = 2\n",
    "Scyl = np.pi * r**2 \n",
    "with open('/home/domain/data/kirill/AB/XOP/md/a5/S/fes_convergence/fes_rew70.dat') as f:\n",
    "    lines = f.readlines()      \n",
    "bound_productive = []\n",
    "bound_unproductive = []\n",
    "unbound = []\n",
    "for line in lines:\n",
    "    l = [float(c) for c in line.split()]\n",
    "    if len(l) < 3: #or e == l[fcol]:\n",
    "        continue\n",
    "    e = l[fcol]\n",
    "    \n",
    "    if productive(*l[:fcol]):\n",
    "        bound_productive.append(bol(e-e0,beta))\n",
    "    #    print \"productive \" + str(e)\n",
    "    elif not productive(*l[:fcol]) and l[0] < 2:\n",
    "        pass\n",
    "        bound_unproductive.append(bol(e,beta))\n",
    "     #   print \"unproductive \" + str(e)\n",
    "    elif l[0] >= 2 and e < 120:\n",
    "        pass\n",
    "        unbound.append(e)\n",
    "     #   print \"unbound \" + str(e)\n",
    "N = sum(z_x) / sum(z_total)# * total_states * i/ 75\n",
    "\n",
    "#Kd = sum(unbound) / ((sum(bound_productive) + sum(bound_unproductive))*Scyl) # in units of [molecule/A^3]\n",
    "Kd = 1 / sum(bound_productive) / Scyl\n",
    "\n",
    "Kd = Kd * 1e27 / (6.02e23) # (molecule / A^3) * (A^3 / mol)\n",
    "print \"Kd = \" + str(round(Kd*1e6,2)) + \" uM\""
   ]
  },
  {
   "cell_type": "code",
   "execution_count": null,
   "metadata": {
    "collapsed": false
   },
   "outputs": [],
   "source": []
  },
  {
   "cell_type": "code",
   "execution_count": 687,
   "metadata": {
    "collapsed": false
   },
   "outputs": [
    {
     "name": "stdout",
     "output_type": "stream",
     "text": [
      "2731.03049049\n"
     ]
    }
   ],
   "source": [
    "dG = - 8.31 * 300 * np.log(Kd)\n",
    "print dG"
   ]
  },
  {
   "cell_type": "code",
   "execution_count": 656,
   "metadata": {
    "collapsed": false
   },
   "outputs": [
    {
     "data": {
      "text/plain": [
       "160791838.49679917"
      ]
     },
     "execution_count": 656,
     "metadata": {},
     "output_type": "execute_result"
    }
   ],
   "source": [
    "Kd #* 1e6 # uM"
   ]
  },
  {
   "cell_type": "code",
   "execution_count": 637,
   "metadata": {
    "collapsed": false
   },
   "outputs": [
    {
     "data": {
      "text/plain": [
       "50.525025661782088"
      ]
     },
     "execution_count": 637,
     "metadata": {},
     "output_type": "execute_result"
    }
   ],
   "source": [
    "-1/beta * np.log(Kd/ 1e6)"
   ]
  },
  {
   "cell_type": "code",
   "execution_count": 644,
   "metadata": {
    "collapsed": false
   },
   "outputs": [
    {
     "data": {
      "text/plain": [
       "0.00041613973942241489"
      ]
     },
     "execution_count": 644,
     "metadata": {},
     "output_type": "execute_result"
    }
   ],
   "source": [
    "bol(54,beta)*1e6"
   ]
  },
  {
   "cell_type": "markdown",
   "metadata": {},
   "source": [
    "# for other ABs"
   ]
  },
  {
   "cell_type": "code",
   "execution_count": 650,
   "metadata": {
    "collapsed": false
   },
   "outputs": [],
   "source": [
    "Ns = []\n",
    "drr = \"fes_convergence\"\n",
    "dr = '/home/domain/data/kirill/AB/XOP/md/mutant_cone/2_73_val/'\n",
    "fcol = 2\n",
    "files = [f for f in os.listdir(dr+drr+\"R\") if \"fes_rew\" in f and not \"png\" in f]\n",
    "z_totalsR = []\n",
    "z_xR = []\n",
    "for fl in range(len(files)):\n",
    "    try:\n",
    "        with open(dr+drr+\"R\"+'/fes_rew' + str(fl) + \".dat\") as f:\n",
    "            lines = f.readlines()\n",
    "    except IOError as e:\n",
    "        print fl\n",
    "        print \"error \" + e.strerror\n",
    "    z_x = []\n",
    "    z_total = []\n",
    "    for line in lines:\n",
    "        l = [float(c) for c in line.split()]\n",
    "        \n",
    "        if len(l) < 3 or e == l[fcol]:\n",
    "            continue\n",
    "        e = l[fcol]\n",
    "        if productive(*l[:2]):\n",
    "            z_x.append(bol(e,beta))\n",
    "        z_total.append(bol(e,beta))\n",
    "        if max_e < l[2]: max_e = e\n",
    "    N = sum(z_x) / sum(z_total)# * total_states * i/ 75\n",
    "    z_xR.append(sum(z_x))\n",
    "    z_totalsR.append(sum(z_total))\n",
    "    Ns.append(N)\n",
    "NsR = Ns\n",
    "\n",
    "Ns = []\n",
    "#dr = '/home/domain/data/kirill/AB/XOP/md/a17/S/'\n",
    "files = [f for f in os.listdir(dr+drr+\"S\") if \"fes_rew\" in f and not \"png\" in f]\n",
    "z_totalsS = []\n",
    "z_xS = []\n",
    "for fl in range(len(files)):\n",
    "    with open(dr+drr+\"S\"+'/fes_rew' + str(fl) + \".dat\") as f:\n",
    "        lines = f.readlines()      \n",
    "    z_x = []\n",
    "    z_total = []\n",
    "    for line in lines:\n",
    "        l = [float(c) for c in line.split()]\n",
    "        if len(l) < 3 or e == l[fcol]:\n",
    "            continue\n",
    "        e = l[fcol]\n",
    "        if productive(*l[:2]):\n",
    "            z_x.append(bol(e,beta))\n",
    "        z_total.append(bol(e,beta))\n",
    "    N = sum(z_x) / sum(z_total)# * total_states * i/ 75\n",
    "    z_xS.append(sum(z_x))\n",
    "    z_totalsS.append(sum(z_total))\n",
    "    Ns.append(N)\n",
    "NsS = Ns\n",
    "\n",
    "# cut the results to equal length\n",
    "length = min(len(NsS),len(NsR))\n",
    "NsR = [1]+NsR[:length]\n",
    "NsS = [1]+NsS[:length]"
   ]
  },
  {
   "cell_type": "code",
   "execution_count": null,
   "metadata": {
    "collapsed": true
   },
   "outputs": [],
   "source": []
  },
  {
   "cell_type": "code",
   "execution_count": 449,
   "metadata": {
    "collapsed": false
   },
   "outputs": [
    {
     "data": {
      "image/png": "[encoded data removed]",
      "text/plain": [
       "<matplotlib.figure.Figure at 0x2061ce10>"
      ]
     },
     "metadata": {},
     "output_type": "display_data"
    }
   ],
   "source": [
    "plt.plot(NsS,  '*-')\n",
    "plt.plot(NsR,  '+--')\n",
    "plt.title(u\"Результаты предсказания стереоселективности\")\n",
    "plt.yscale(\"log\")"
   ]
  },
  {
   "cell_type": "code",
   "execution_count": 722,
   "metadata": {
    "collapsed": false
   },
   "outputs": [
    {
     "data": {
      "text/plain": [
       "<matplotlib.text.Text at 0x2662add0>"
      ]
     },
     "execution_count": 722,
     "metadata": {},
     "output_type": "execute_result"
    },
    {
     "data": {
      "text/plain": [
       "<matplotlib.figure.Figure at 0x2584ec50>"
      ]
     },
     "metadata": {},
     "output_type": "display_data"
    },
    {
     "data": {
      "image/png": "[encoded data removed]",
      "text/plain": [
       "<matplotlib.figure.Figure at 0x26307bd0>"
      ]
     },
     "metadata": {},
     "output_type": "display_data"
    }
   ],
   "source": [
    "sns.despine()\n",
    "sns.set_style(\"white\")\n",
    "fig,ax = plt.subplots(figsize=(10,3))\n",
    "\n",
    "plt.plot(range(0,len(NsS)*10,10),[s/r for s,r in zip(NsS,NsR)],'k-');\n",
    "plt.plot(range(0,len(NsS)*10,10),[1]*len(range(0,len(NsS)*10,10)),'r-', linewidth=2);\n",
    "#plt.title(u\"Оценка стереоселективности A5Bad\", fontweight = \"bold\")\n",
    "plt.xlim(0,350)\n",
    "sns.despine()\n",
    "#plt.ylim(1e-12,1e12)\n",
    "plt.yscale(\"log\")\n",
    "plt.ylabel(u\"Соотношение S/R\")\n",
    "plt.xlabel(u\"Время, нс\")\n",
    "#plt.plot(zip(range(0,390,10),[1]*390))"
   ]
  },
  {
   "cell_type": "code",
   "execution_count": 451,
   "metadata": {
    "collapsed": false
   },
   "outputs": [
    {
     "data": {
      "text/plain": [
       "2.6247305112986092"
      ]
     },
     "execution_count": 451,
     "metadata": {},
     "output_type": "execute_result"
    }
   ],
   "source": [
    "[s/(r) for s,r in zip(NsS,NsR)][-1]"
   ]
  },
  {
   "cell_type": "code",
   "execution_count": 792,
   "metadata": {
    "collapsed": false
   },
   "outputs": [
    {
     "data": {
      "text/plain": [
       "[<matplotlib.lines.Line2D at 0x39aa34d0>]"
      ]
     },
     "execution_count": 792,
     "metadata": {},
     "output_type": "execute_result"
    },
    {
     "data": {
      "image/png": "[encoded data removed]",
      "text/plain": [
       "<matplotlib.figure.Figure at 0x34b9bfd0>"
      ]
     },
     "metadata": {},
     "output_type": "display_data"
    }
   ],
   "source": [
    "\n",
    "\n",
    "f, (ax, ax2,) = plt.subplots(2, 1, sharex=True)\n",
    "\n",
    "plt.ylabel(u\"Соотношение S/R\")\n",
    "plt.xlabel(u\"Время, нс\")\n",
    "ax = plt.subplot2grid((5, 3), (0, 0), rowspan = 4, colspan = 3)\n",
    "ax2 = plt.subplot2grid((5, 3), (4, 0), rowspan = 1, colspan = 3)\n",
    "plt.xlim(0,350)\n",
    "ax.set_yscale(\"log\")\n",
    "ax2.set_yscale(\"log\")\n",
    "# plot the same data on both axes\n",
    "ax.plot(range(0,len(NsS)*10,10),[s/r for s,r in zip(NsS,NsR)],'k-');\n",
    "ax.plot(range(0,len(NsS)*10,10),[1]*len(range(0,len(NsS)*10,10)),'r-', linewidth=2);\n",
    "ax2.plot(range(0,len(NsS)*10,10),[s/r for s,r in zip(NsS,NsR)],'k-');\n",
    "\n",
    "# zoom-in / limit the view to different portions of the data\n",
    "ax.set_ylim(1e-12, 1e12)  # outliers only\n",
    "ax2.set_ylim(1e-24, 1e-14)  # most of the data\n",
    "ax2.set_yticklabels(np.arange(1e-24, 1e-14, ))\n",
    "# hide the spines between ax and ax2\n",
    "ax.spines['bottom'].set_visible(False)\n",
    "ax2.spines['top'].set_visible(False)\n",
    "ax.xaxis.tick_top()\n",
    "ax.tick_params(labeltop='off')  # don't put tick labels at the top\n",
    "ax2.xaxis.tick_bottom()\n",
    "ax2.set_yticklabels([l for l in ax2.get_ymajorticklabels()[::2]])\n",
    "d = .015  # how big to make the diagonal lines in axes coordinates\n",
    "# arguments to pass to plot, just so we don't keep repeating them\n",
    "kwargs = dict(transform=ax.transAxes, color='k', clip_on=False)\n",
    "ax.plot((-d, +d), (-d, +d), **kwargs)        # top-left diagonal\n",
    "ax.plot((1 - d, 1 + d), (-d, +d), **kwargs)  # top-right diagonal\n",
    "\n",
    "kwargs.update(transform=ax2.transAxes)  # switch to the bottom axes\n",
    "ax2.plot((-d, +d), (1 - d, 1 + d), **kwargs)  # bottom-left diagonal\n",
    "ax2.plot((1 - d, 1 + d), (1 - d, 1 + d), **kwargs)  # bottom-right diagonal\n"
   ]
  },
  {
   "cell_type": "code",
   "execution_count": 788,
   "metadata": {
    "collapsed": false
   },
   "outputs": [
    {
     "data": {
      "text/plain": [
       "[<matplotlib.text.Text at 0x374a2310>,\n",
       " <matplotlib.text.Text at 0x374a3b50>,\n",
       " <matplotlib.text.Text at 0x37713fd0>,\n",
       " <matplotlib.text.Text at 0x37712650>,\n",
       " <matplotlib.text.Text at 0x37712d90>,\n",
       " <matplotlib.text.Text at 0x37714510>,\n",
       " <matplotlib.text.Text at 0x37705e10>]"
      ]
     },
     "execution_count": 788,
     "metadata": {},
     "output_type": "execute_result"
    }
   ],
   "source": [
    "ax2.set_yticklabels([l for l in ax2.get_ymajorticklabels()[::2]])"
   ]
  },
  {
   "cell_type": "code",
   "execution_count": null,
   "metadata": {
    "collapsed": true
   },
   "outputs": [],
   "source": []
  }
 ],
 "metadata": {
  "kernelspec": {
   "display_name": "Python 2",
   "language": "python",
   "name": "python2"
  },
  "language_info": {
   "codemirror_mode": {
    "name": "ipython",
    "version": 2
   },
   "file_extension": ".py",
   "mimetype": "text/x-python",
   "name": "python",
   "nbconvert_exporter": "python",
   "pygments_lexer": "ipython2",
   "version": "2.7.3"
  }
 },
 "nbformat": 4,
 "nbformat_minor": 0
}
